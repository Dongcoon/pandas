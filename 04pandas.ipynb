{
 "cells": [
  {
   "cell_type": "code",
   "execution_count": 1,
   "id": "ef7c822a-5545-4eef-ac68-1bb20cffbcd8",
   "metadata": {},
   "outputs": [],
   "source": [
    "import numpy as np\n",
    "import pandas as pd"
   ]
  },
  {
   "cell_type": "markdown",
   "id": "9e7bd7cf-6148-4f95-86b3-dc94ec6042f1",
   "metadata": {},
   "source": [
    "# 데이터 병합\n",
    "+ concat([대상들], join=공통컬럼, ignore_index=True)\n",
    "+ merge\n",
    "+ join"
   ]
  },
  {
   "cell_type": "markdown",
   "id": "1103817f-3465-40e5-b757-b94de70c99f1",
   "metadata": {},
   "source": [
    "## 행 기준 결합 (long)"
   ]
  },
  {
   "cell_type": "code",
   "execution_count": 17,
   "id": "5943e092-f027-431f-a69f-e57074f5bd11",
   "metadata": {},
   "outputs": [],
   "source": [
    "menu1 = pd.Series(['라면','짜장면','우동'], index=[1,2,3])\n",
    "menu2 = pd.Series(['돈까스','피자','치킨'], index=[4,5,6])"
   ]
  },
  {
   "cell_type": "code",
   "execution_count": 3,
   "id": "7901ced5-4a2e-42bc-af83-7bcd31d61cdb",
   "metadata": {
    "collapsed": true,
    "jupyter": {
     "outputs_hidden": true
    },
    "tags": []
   },
   "outputs": [
    {
     "data": {
      "text/plain": [
       "1     라면\n",
       "2    짜장면\n",
       "3     우동\n",
       "4    돈까스\n",
       "5     피자\n",
       "6     치킨\n",
       "dtype: object"
      ]
     },
     "execution_count": 3,
     "metadata": {},
     "output_type": "execute_result"
    }
   ],
   "source": [
    "pd.concat([menu1,menu2])"
   ]
  },
  {
   "cell_type": "code",
   "execution_count": 12,
   "id": "475306f1-aea5-471b-93b1-aea233624de9",
   "metadata": {},
   "outputs": [],
   "source": [
    "df1 = pd.DataFrame({'menu':menu1})\n",
    "df2 = pd.DataFrame({'menu':menu2})"
   ]
  },
  {
   "cell_type": "code",
   "execution_count": 13,
   "id": "1f27dd20-8aaa-47ca-bcf6-76b5e665e657",
   "metadata": {
    "collapsed": true,
    "jupyter": {
     "outputs_hidden": true
    },
    "tags": []
   },
   "outputs": [
    {
     "data": {
      "text/html": [
       "<div>\n",
       "<style scoped>\n",
       "    .dataframe tbody tr th:only-of-type {\n",
       "        vertical-align: middle;\n",
       "    }\n",
       "\n",
       "    .dataframe tbody tr th {\n",
       "        vertical-align: top;\n",
       "    }\n",
       "\n",
       "    .dataframe thead th {\n",
       "        text-align: right;\n",
       "    }\n",
       "</style>\n",
       "<table border=\"1\" class=\"dataframe\">\n",
       "  <thead>\n",
       "    <tr style=\"text-align: right;\">\n",
       "      <th></th>\n",
       "      <th>menu</th>\n",
       "    </tr>\n",
       "  </thead>\n",
       "  <tbody>\n",
       "    <tr>\n",
       "      <th>1</th>\n",
       "      <td>라면</td>\n",
       "    </tr>\n",
       "    <tr>\n",
       "      <th>2</th>\n",
       "      <td>짜장면</td>\n",
       "    </tr>\n",
       "    <tr>\n",
       "      <th>3</th>\n",
       "      <td>우동</td>\n",
       "    </tr>\n",
       "    <tr>\n",
       "      <th>4</th>\n",
       "      <td>돈까스</td>\n",
       "    </tr>\n",
       "    <tr>\n",
       "      <th>5</th>\n",
       "      <td>피자</td>\n",
       "    </tr>\n",
       "    <tr>\n",
       "      <th>6</th>\n",
       "      <td>치킨</td>\n",
       "    </tr>\n",
       "  </tbody>\n",
       "</table>\n",
       "</div>"
      ],
      "text/plain": [
       "  menu\n",
       "1   라면\n",
       "2  짜장면\n",
       "3   우동\n",
       "4  돈까스\n",
       "5   피자\n",
       "6   치킨"
      ]
     },
     "execution_count": 13,
     "metadata": {},
     "output_type": "execute_result"
    }
   ],
   "source": [
    "pd.concat([df1,df2])  # 컬럼명이 같으므로 df1아래에 df2가 붙음"
   ]
  },
  {
   "cell_type": "markdown",
   "id": "cdc779de-b989-4038-992b-48d6ed52e7f8",
   "metadata": {},
   "source": [
    "### 열기준 결합 (wide)"
   ]
  },
  {
   "cell_type": "code",
   "execution_count": 15,
   "id": "92fb3ba6-d1f6-4b28-9954-256ece33b249",
   "metadata": {
    "collapsed": true,
    "jupyter": {
     "outputs_hidden": true
    },
    "tags": []
   },
   "outputs": [
    {
     "data": {
      "text/html": [
       "<div>\n",
       "<style scoped>\n",
       "    .dataframe tbody tr th:only-of-type {\n",
       "        vertical-align: middle;\n",
       "    }\n",
       "\n",
       "    .dataframe tbody tr th {\n",
       "        vertical-align: top;\n",
       "    }\n",
       "\n",
       "    .dataframe thead th {\n",
       "        text-align: right;\n",
       "    }\n",
       "</style>\n",
       "<table border=\"1\" class=\"dataframe\">\n",
       "  <thead>\n",
       "    <tr style=\"text-align: right;\">\n",
       "      <th></th>\n",
       "      <th>0</th>\n",
       "      <th>1</th>\n",
       "    </tr>\n",
       "  </thead>\n",
       "  <tbody>\n",
       "    <tr>\n",
       "      <th>1</th>\n",
       "      <td>라면</td>\n",
       "      <td>NaN</td>\n",
       "    </tr>\n",
       "    <tr>\n",
       "      <th>2</th>\n",
       "      <td>짜장면</td>\n",
       "      <td>NaN</td>\n",
       "    </tr>\n",
       "    <tr>\n",
       "      <th>3</th>\n",
       "      <td>우동</td>\n",
       "      <td>NaN</td>\n",
       "    </tr>\n",
       "    <tr>\n",
       "      <th>4</th>\n",
       "      <td>NaN</td>\n",
       "      <td>돈까스</td>\n",
       "    </tr>\n",
       "    <tr>\n",
       "      <th>5</th>\n",
       "      <td>NaN</td>\n",
       "      <td>피자</td>\n",
       "    </tr>\n",
       "    <tr>\n",
       "      <th>6</th>\n",
       "      <td>NaN</td>\n",
       "      <td>치킨</td>\n",
       "    </tr>\n",
       "  </tbody>\n",
       "</table>\n",
       "</div>"
      ],
      "text/plain": [
       "     0    1\n",
       "1   라면  NaN\n",
       "2  짜장면  NaN\n",
       "3   우동  NaN\n",
       "4  NaN  돈까스\n",
       "5  NaN   피자\n",
       "6  NaN   치킨"
      ]
     },
     "execution_count": 15,
     "metadata": {},
     "output_type": "execute_result"
    }
   ],
   "source": [
    "pd.concat([menu1,menu2], axis=1)  "
   ]
  },
  {
   "cell_type": "code",
   "execution_count": 19,
   "id": "22d84dae-57a9-46bb-a402-f6820c30f020",
   "metadata": {},
   "outputs": [],
   "source": [
    "menu3 = pd.Series(['라면','짜장면','우동'], index=[1,2,3])\n",
    "menu4 = pd.Series(['돈까스','피자','치킨'], index=[1,2,3])"
   ]
  },
  {
   "cell_type": "code",
   "execution_count": 20,
   "id": "0a8b3b09-c09a-4c3a-969b-287a415e24cb",
   "metadata": {
    "collapsed": true,
    "jupyter": {
     "outputs_hidden": true
    },
    "tags": []
   },
   "outputs": [
    {
     "data": {
      "text/html": [
       "<div>\n",
       "<style scoped>\n",
       "    .dataframe tbody tr th:only-of-type {\n",
       "        vertical-align: middle;\n",
       "    }\n",
       "\n",
       "    .dataframe tbody tr th {\n",
       "        vertical-align: top;\n",
       "    }\n",
       "\n",
       "    .dataframe thead th {\n",
       "        text-align: right;\n",
       "    }\n",
       "</style>\n",
       "<table border=\"1\" class=\"dataframe\">\n",
       "  <thead>\n",
       "    <tr style=\"text-align: right;\">\n",
       "      <th></th>\n",
       "      <th>0</th>\n",
       "      <th>1</th>\n",
       "    </tr>\n",
       "  </thead>\n",
       "  <tbody>\n",
       "    <tr>\n",
       "      <th>1</th>\n",
       "      <td>라면</td>\n",
       "      <td>돈까스</td>\n",
       "    </tr>\n",
       "    <tr>\n",
       "      <th>2</th>\n",
       "      <td>짜장면</td>\n",
       "      <td>피자</td>\n",
       "    </tr>\n",
       "    <tr>\n",
       "      <th>3</th>\n",
       "      <td>우동</td>\n",
       "      <td>치킨</td>\n",
       "    </tr>\n",
       "  </tbody>\n",
       "</table>\n",
       "</div>"
      ],
      "text/plain": [
       "     0    1\n",
       "1   라면  돈까스\n",
       "2  짜장면   피자\n",
       "3   우동   치킨"
      ]
     },
     "execution_count": 20,
     "metadata": {},
     "output_type": "execute_result"
    }
   ],
   "source": [
    "pd.concat([menu3,menu4], axis=1)  "
   ]
  },
  {
   "cell_type": "code",
   "execution_count": 26,
   "id": "044c5b74-87d3-4b1c-9749-b95ace2d4c96",
   "metadata": {},
   "outputs": [],
   "source": [
    "data1 = pd.DataFrame({'음식명': ['돈가스', '피자', '초밥', '치킨', '탕수육'],\n",
    "                    '카테고리': ['일식', '양식', '일식', '양식', '중식']})\n",
    "data2 = pd.DataFrame({'음식명': ['갈비탕', '냉면', '짜장면', '파스타', '라멘'],\n",
    "                    '카테고리': ['한식', '한식', '중식', '양식', '일식']})\n",
    "data3 = pd.DataFrame({'음식명': ['갈비탕', '냉면', '짜장면', '파스타', '라멘'],\n",
    "                    '판매인기지역': ['서울', '부산', '제주', '제주', '서울']})"
   ]
  },
  {
   "cell_type": "code",
   "execution_count": 24,
   "id": "27282524-abaa-4824-b2af-5d681e9a2dad",
   "metadata": {
    "collapsed": true,
    "jupyter": {
     "outputs_hidden": true
    },
    "tags": []
   },
   "outputs": [
    {
     "data": {
      "text/html": [
       "<div>\n",
       "<style scoped>\n",
       "    .dataframe tbody tr th:only-of-type {\n",
       "        vertical-align: middle;\n",
       "    }\n",
       "\n",
       "    .dataframe tbody tr th {\n",
       "        vertical-align: top;\n",
       "    }\n",
       "\n",
       "    .dataframe thead th {\n",
       "        text-align: right;\n",
       "    }\n",
       "</style>\n",
       "<table border=\"1\" class=\"dataframe\">\n",
       "  <thead>\n",
       "    <tr style=\"text-align: right;\">\n",
       "      <th></th>\n",
       "      <th>음식명</th>\n",
       "      <th>카테고리</th>\n",
       "    </tr>\n",
       "  </thead>\n",
       "  <tbody>\n",
       "    <tr>\n",
       "      <th>0</th>\n",
       "      <td>돈가스</td>\n",
       "      <td>일식</td>\n",
       "    </tr>\n",
       "    <tr>\n",
       "      <th>1</th>\n",
       "      <td>피자</td>\n",
       "      <td>양식</td>\n",
       "    </tr>\n",
       "    <tr>\n",
       "      <th>2</th>\n",
       "      <td>초밥</td>\n",
       "      <td>일식</td>\n",
       "    </tr>\n",
       "    <tr>\n",
       "      <th>3</th>\n",
       "      <td>치킨</td>\n",
       "      <td>양식</td>\n",
       "    </tr>\n",
       "    <tr>\n",
       "      <th>4</th>\n",
       "      <td>탕수육</td>\n",
       "      <td>중식</td>\n",
       "    </tr>\n",
       "    <tr>\n",
       "      <th>5</th>\n",
       "      <td>갈비탕</td>\n",
       "      <td>한식</td>\n",
       "    </tr>\n",
       "    <tr>\n",
       "      <th>6</th>\n",
       "      <td>냉면</td>\n",
       "      <td>한식</td>\n",
       "    </tr>\n",
       "    <tr>\n",
       "      <th>7</th>\n",
       "      <td>짜장면</td>\n",
       "      <td>중식</td>\n",
       "    </tr>\n",
       "    <tr>\n",
       "      <th>8</th>\n",
       "      <td>파스타</td>\n",
       "      <td>양식</td>\n",
       "    </tr>\n",
       "    <tr>\n",
       "      <th>9</th>\n",
       "      <td>라멘</td>\n",
       "      <td>일식</td>\n",
       "    </tr>\n",
       "  </tbody>\n",
       "</table>\n",
       "</div>"
      ],
      "text/plain": [
       "   음식명 카테고리\n",
       "0  돈가스   일식\n",
       "1   피자   양식\n",
       "2   초밥   일식\n",
       "3   치킨   양식\n",
       "4  탕수육   중식\n",
       "5  갈비탕   한식\n",
       "6   냉면   한식\n",
       "7  짜장면   중식\n",
       "8  파스타   양식\n",
       "9   라멘   일식"
      ]
     },
     "execution_count": 24,
     "metadata": {},
     "output_type": "execute_result"
    }
   ],
   "source": [
    "pd.concat([data1,data2], ignore_index=True)"
   ]
  },
  {
   "cell_type": "code",
   "execution_count": 25,
   "id": "c02bf26a-d847-4148-9e22-3568f4f4187d",
   "metadata": {
    "collapsed": true,
    "jupyter": {
     "outputs_hidden": true
    },
    "tags": []
   },
   "outputs": [
    {
     "data": {
      "text/html": [
       "<div>\n",
       "<style scoped>\n",
       "    .dataframe tbody tr th:only-of-type {\n",
       "        vertical-align: middle;\n",
       "    }\n",
       "\n",
       "    .dataframe tbody tr th {\n",
       "        vertical-align: top;\n",
       "    }\n",
       "\n",
       "    .dataframe thead th {\n",
       "        text-align: right;\n",
       "    }\n",
       "</style>\n",
       "<table border=\"1\" class=\"dataframe\">\n",
       "  <thead>\n",
       "    <tr style=\"text-align: right;\">\n",
       "      <th></th>\n",
       "      <th>음식명</th>\n",
       "      <th>카테고리</th>\n",
       "      <th>음식명</th>\n",
       "      <th>카테고리</th>\n",
       "    </tr>\n",
       "  </thead>\n",
       "  <tbody>\n",
       "    <tr>\n",
       "      <th>0</th>\n",
       "      <td>돈가스</td>\n",
       "      <td>일식</td>\n",
       "      <td>갈비탕</td>\n",
       "      <td>한식</td>\n",
       "    </tr>\n",
       "    <tr>\n",
       "      <th>1</th>\n",
       "      <td>피자</td>\n",
       "      <td>양식</td>\n",
       "      <td>냉면</td>\n",
       "      <td>한식</td>\n",
       "    </tr>\n",
       "    <tr>\n",
       "      <th>2</th>\n",
       "      <td>초밥</td>\n",
       "      <td>일식</td>\n",
       "      <td>짜장면</td>\n",
       "      <td>중식</td>\n",
       "    </tr>\n",
       "    <tr>\n",
       "      <th>3</th>\n",
       "      <td>치킨</td>\n",
       "      <td>양식</td>\n",
       "      <td>파스타</td>\n",
       "      <td>양식</td>\n",
       "    </tr>\n",
       "    <tr>\n",
       "      <th>4</th>\n",
       "      <td>탕수육</td>\n",
       "      <td>중식</td>\n",
       "      <td>라멘</td>\n",
       "      <td>일식</td>\n",
       "    </tr>\n",
       "  </tbody>\n",
       "</table>\n",
       "</div>"
      ],
      "text/plain": [
       "   음식명 카테고리  음식명 카테고리\n",
       "0  돈가스   일식  갈비탕   한식\n",
       "1   피자   양식   냉면   한식\n",
       "2   초밥   일식  짜장면   중식\n",
       "3   치킨   양식  파스타   양식\n",
       "4  탕수육   중식   라멘   일식"
      ]
     },
     "execution_count": 25,
     "metadata": {},
     "output_type": "execute_result"
    }
   ],
   "source": [
    "pd.concat([data1,data2], axis=1)"
   ]
  },
  {
   "cell_type": "markdown",
   "id": "8345fb30-3bea-4baf-bbfd-3581aca3c599",
   "metadata": {},
   "source": [
    "### 컬럼 기준 결합"
   ]
  },
  {
   "cell_type": "code",
   "execution_count": 28,
   "id": "283b59fb-8488-4198-bde8-71dd01108c17",
   "metadata": {},
   "outputs": [],
   "source": [
    "data4 = pd.DataFrame({'음식명': ['돈가스', '피자', '초밥', '치킨', '탕수육', '갈비탕', '냉면', '짜장면', '파스타', '라멘'],\n",
    "                    '카테고리': ['일식', '양식', '일식', '양식', '중식', '한식', '한식', '중식', '양식', '일식']})\n",
    "data5 = pd.DataFrame({'음식명': ['탕수육', '짜장면', '돈가스', '치킨', '파스타', '갈비탕', '초밥'],\n",
    "                    '판매인기지역': ['서울', '부산', '제주', '서울', '서울', '제주', '부산']})"
   ]
  },
  {
   "cell_type": "code",
   "execution_count": 27,
   "id": "21d1ae93-2662-48cf-acbb-47145871fe04",
   "metadata": {
    "collapsed": true,
    "jupyter": {
     "outputs_hidden": true
    },
    "tags": []
   },
   "outputs": [
    {
     "data": {
      "text/html": [
       "<div>\n",
       "<style scoped>\n",
       "    .dataframe tbody tr th:only-of-type {\n",
       "        vertical-align: middle;\n",
       "    }\n",
       "\n",
       "    .dataframe tbody tr th {\n",
       "        vertical-align: top;\n",
       "    }\n",
       "\n",
       "    .dataframe thead th {\n",
       "        text-align: right;\n",
       "    }\n",
       "</style>\n",
       "<table border=\"1\" class=\"dataframe\">\n",
       "  <thead>\n",
       "    <tr style=\"text-align: right;\">\n",
       "      <th></th>\n",
       "      <th>음식명</th>\n",
       "      <th>카테고리</th>\n",
       "      <th>판매인기지역</th>\n",
       "    </tr>\n",
       "  </thead>\n",
       "  <tbody>\n",
       "    <tr>\n",
       "      <th>0</th>\n",
       "      <td>돈가스</td>\n",
       "      <td>일식</td>\n",
       "      <td>제주</td>\n",
       "    </tr>\n",
       "    <tr>\n",
       "      <th>1</th>\n",
       "      <td>초밥</td>\n",
       "      <td>일식</td>\n",
       "      <td>부산</td>\n",
       "    </tr>\n",
       "    <tr>\n",
       "      <th>2</th>\n",
       "      <td>치킨</td>\n",
       "      <td>양식</td>\n",
       "      <td>서울</td>\n",
       "    </tr>\n",
       "    <tr>\n",
       "      <th>3</th>\n",
       "      <td>탕수육</td>\n",
       "      <td>중식</td>\n",
       "      <td>서울</td>\n",
       "    </tr>\n",
       "    <tr>\n",
       "      <th>4</th>\n",
       "      <td>갈비탕</td>\n",
       "      <td>한식</td>\n",
       "      <td>제주</td>\n",
       "    </tr>\n",
       "    <tr>\n",
       "      <th>5</th>\n",
       "      <td>짜장면</td>\n",
       "      <td>중식</td>\n",
       "      <td>부산</td>\n",
       "    </tr>\n",
       "    <tr>\n",
       "      <th>6</th>\n",
       "      <td>파스타</td>\n",
       "      <td>양식</td>\n",
       "      <td>서울</td>\n",
       "    </tr>\n",
       "  </tbody>\n",
       "</table>\n",
       "</div>"
      ],
      "text/plain": [
       "   음식명 카테고리 판매인기지역\n",
       "0  돈가스   일식     제주\n",
       "1   초밥   일식     부산\n",
       "2   치킨   양식     서울\n",
       "3  탕수육   중식     서울\n",
       "4  갈비탕   한식     제주\n",
       "5  짜장면   중식     부산\n",
       "6  파스타   양식     서울"
      ]
     },
     "execution_count": 27,
     "metadata": {},
     "output_type": "execute_result"
    }
   ],
   "source": [
    "pd.merge(data4,data5)  # 교집합"
   ]
  },
  {
   "cell_type": "code",
   "execution_count": 29,
   "id": "23c14bac-ef2f-4015-ad91-937d59d3b1be",
   "metadata": {
    "collapsed": true,
    "jupyter": {
     "outputs_hidden": true
    },
    "tags": []
   },
   "outputs": [
    {
     "data": {
      "text/html": [
       "<div>\n",
       "<style scoped>\n",
       "    .dataframe tbody tr th:only-of-type {\n",
       "        vertical-align: middle;\n",
       "    }\n",
       "\n",
       "    .dataframe tbody tr th {\n",
       "        vertical-align: top;\n",
       "    }\n",
       "\n",
       "    .dataframe thead th {\n",
       "        text-align: right;\n",
       "    }\n",
       "</style>\n",
       "<table border=\"1\" class=\"dataframe\">\n",
       "  <thead>\n",
       "    <tr style=\"text-align: right;\">\n",
       "      <th></th>\n",
       "      <th>음식명</th>\n",
       "      <th>카테고리</th>\n",
       "      <th>판매인기지역</th>\n",
       "    </tr>\n",
       "  </thead>\n",
       "  <tbody>\n",
       "    <tr>\n",
       "      <th>0</th>\n",
       "      <td>돈가스</td>\n",
       "      <td>일식</td>\n",
       "      <td>제주</td>\n",
       "    </tr>\n",
       "    <tr>\n",
       "      <th>1</th>\n",
       "      <td>피자</td>\n",
       "      <td>양식</td>\n",
       "      <td>NaN</td>\n",
       "    </tr>\n",
       "    <tr>\n",
       "      <th>2</th>\n",
       "      <td>초밥</td>\n",
       "      <td>일식</td>\n",
       "      <td>부산</td>\n",
       "    </tr>\n",
       "    <tr>\n",
       "      <th>3</th>\n",
       "      <td>치킨</td>\n",
       "      <td>양식</td>\n",
       "      <td>서울</td>\n",
       "    </tr>\n",
       "    <tr>\n",
       "      <th>4</th>\n",
       "      <td>탕수육</td>\n",
       "      <td>중식</td>\n",
       "      <td>서울</td>\n",
       "    </tr>\n",
       "    <tr>\n",
       "      <th>5</th>\n",
       "      <td>갈비탕</td>\n",
       "      <td>한식</td>\n",
       "      <td>제주</td>\n",
       "    </tr>\n",
       "    <tr>\n",
       "      <th>6</th>\n",
       "      <td>냉면</td>\n",
       "      <td>한식</td>\n",
       "      <td>NaN</td>\n",
       "    </tr>\n",
       "    <tr>\n",
       "      <th>7</th>\n",
       "      <td>짜장면</td>\n",
       "      <td>중식</td>\n",
       "      <td>부산</td>\n",
       "    </tr>\n",
       "    <tr>\n",
       "      <th>8</th>\n",
       "      <td>파스타</td>\n",
       "      <td>양식</td>\n",
       "      <td>서울</td>\n",
       "    </tr>\n",
       "    <tr>\n",
       "      <th>9</th>\n",
       "      <td>라멘</td>\n",
       "      <td>일식</td>\n",
       "      <td>NaN</td>\n",
       "    </tr>\n",
       "  </tbody>\n",
       "</table>\n",
       "</div>"
      ],
      "text/plain": [
       "   음식명 카테고리 판매인기지역\n",
       "0  돈가스   일식     제주\n",
       "1   피자   양식    NaN\n",
       "2   초밥   일식     부산\n",
       "3   치킨   양식     서울\n",
       "4  탕수육   중식     서울\n",
       "5  갈비탕   한식     제주\n",
       "6   냉면   한식    NaN\n",
       "7  짜장면   중식     부산\n",
       "8  파스타   양식     서울\n",
       "9   라멘   일식    NaN"
      ]
     },
     "execution_count": 29,
     "metadata": {},
     "output_type": "execute_result"
    }
   ],
   "source": [
    "pd.merge(data4,data5, how='outer')  # 교집합 + 여집합"
   ]
  },
  {
   "cell_type": "markdown",
   "id": "572ce18d-b5b4-419e-b9f4-8e52cc3ab50e",
   "metadata": {},
   "source": [
    "### 데이터프레임 그룹핑\n",
    "* 특정조건에 따라 데이터들을 그룹으로 묶어서\n",
    " 집계함수를 적용해서 통계정보를 출력\n",
    "* 해당 그룹의 특성을 살펴볼 수 있음\n",
    "* groupby(조건열).(집계함수)"
   ]
  },
  {
   "cell_type": "code",
   "execution_count": 44,
   "id": "a0141a33-7d58-4817-9e40-97ce27766602",
   "metadata": {},
   "outputs": [],
   "source": [
    "pd.options.display.float_format = '{:,.2f}'.format"
   ]
  },
  {
   "cell_type": "code",
   "execution_count": 30,
   "id": "4dbf51db-08dc-4031-83b3-f430acc2ca7d",
   "metadata": {},
   "outputs": [],
   "source": [
    "city = ['서울', '서울', '서울', '부산', '부산', '부산', '인천', '인천']\n",
    "year = [2015, 2010, 2005, 2015, 2010, 2005, 2015, 2010]\n",
    "pop = [9904312, 9631482, 9762546, 3448737, 3393191, 3512547, 2890451, 263203]\n",
    "region = ['수도권', '수도권', '수도권', '경상권', '경상권', '경상권', '수도권', '수도권']"
   ]
  },
  {
   "cell_type": "code",
   "execution_count": 31,
   "id": "c1415b2a-3a4a-4b7f-bf08-55d83c03b9a3",
   "metadata": {
    "collapsed": true,
    "jupyter": {
     "outputs_hidden": true
    },
    "tags": []
   },
   "outputs": [
    {
     "data": {
      "text/html": [
       "<style type=\"text/css\">\n",
       "</style>\n",
       "<table id=\"T_53c4f\">\n",
       "  <thead>\n",
       "    <tr>\n",
       "      <th class=\"blank level0\" >&nbsp;</th>\n",
       "      <th id=\"T_53c4f_level0_col0\" class=\"col_heading level0 col0\" >도시</th>\n",
       "      <th id=\"T_53c4f_level0_col1\" class=\"col_heading level0 col1\" >년도</th>\n",
       "      <th id=\"T_53c4f_level0_col2\" class=\"col_heading level0 col2\" >인구수</th>\n",
       "      <th id=\"T_53c4f_level0_col3\" class=\"col_heading level0 col3\" >지역</th>\n",
       "    </tr>\n",
       "  </thead>\n",
       "  <tbody>\n",
       "    <tr>\n",
       "      <th id=\"T_53c4f_level0_row0\" class=\"row_heading level0 row0\" >1</th>\n",
       "      <td id=\"T_53c4f_row0_col0\" class=\"data row0 col0\" >서울</td>\n",
       "      <td id=\"T_53c4f_row0_col1\" class=\"data row0 col1\" >2015</td>\n",
       "      <td id=\"T_53c4f_row0_col2\" class=\"data row0 col2\" >9,904,312</td>\n",
       "      <td id=\"T_53c4f_row0_col3\" class=\"data row0 col3\" >수도권</td>\n",
       "    </tr>\n",
       "    <tr>\n",
       "      <th id=\"T_53c4f_level0_row1\" class=\"row_heading level0 row1\" >2</th>\n",
       "      <td id=\"T_53c4f_row1_col0\" class=\"data row1 col0\" >서울</td>\n",
       "      <td id=\"T_53c4f_row1_col1\" class=\"data row1 col1\" >2010</td>\n",
       "      <td id=\"T_53c4f_row1_col2\" class=\"data row1 col2\" >9,631,482</td>\n",
       "      <td id=\"T_53c4f_row1_col3\" class=\"data row1 col3\" >수도권</td>\n",
       "    </tr>\n",
       "    <tr>\n",
       "      <th id=\"T_53c4f_level0_row2\" class=\"row_heading level0 row2\" >3</th>\n",
       "      <td id=\"T_53c4f_row2_col0\" class=\"data row2 col0\" >서울</td>\n",
       "      <td id=\"T_53c4f_row2_col1\" class=\"data row2 col1\" >2005</td>\n",
       "      <td id=\"T_53c4f_row2_col2\" class=\"data row2 col2\" >9,762,546</td>\n",
       "      <td id=\"T_53c4f_row2_col3\" class=\"data row2 col3\" >수도권</td>\n",
       "    </tr>\n",
       "    <tr>\n",
       "      <th id=\"T_53c4f_level0_row3\" class=\"row_heading level0 row3\" >4</th>\n",
       "      <td id=\"T_53c4f_row3_col0\" class=\"data row3 col0\" >부산</td>\n",
       "      <td id=\"T_53c4f_row3_col1\" class=\"data row3 col1\" >2015</td>\n",
       "      <td id=\"T_53c4f_row3_col2\" class=\"data row3 col2\" >3,448,737</td>\n",
       "      <td id=\"T_53c4f_row3_col3\" class=\"data row3 col3\" >경상권</td>\n",
       "    </tr>\n",
       "    <tr>\n",
       "      <th id=\"T_53c4f_level0_row4\" class=\"row_heading level0 row4\" >5</th>\n",
       "      <td id=\"T_53c4f_row4_col0\" class=\"data row4 col0\" >부산</td>\n",
       "      <td id=\"T_53c4f_row4_col1\" class=\"data row4 col1\" >2010</td>\n",
       "      <td id=\"T_53c4f_row4_col2\" class=\"data row4 col2\" >3,393,191</td>\n",
       "      <td id=\"T_53c4f_row4_col3\" class=\"data row4 col3\" >경상권</td>\n",
       "    </tr>\n",
       "  </tbody>\n",
       "</table>\n"
      ],
      "text/plain": [
       "<pandas.io.formats.style.Styler at 0x1f697aa2040>"
      ]
     },
     "execution_count": 31,
     "metadata": {},
     "output_type": "execute_result"
    }
   ],
   "source": [
    "data = {'도시':city, '년도':year, '인구수':pop, '지역':region}\n",
    "df = pd.DataFrame(data, index=range(1,9))\n",
    "df.head().style.format({'인구수':'{:,}'})"
   ]
  },
  {
   "cell_type": "markdown",
   "id": "44130d1c-4717-427b-87ee-2e04e92c5ee4",
   "metadata": {},
   "source": [
    "### 그룹핑 다뤄보기"
   ]
  },
  {
   "cell_type": "code",
   "execution_count": 32,
   "id": "e5a96e6a-474f-4f28-9d1c-cdf762542e3d",
   "metadata": {},
   "outputs": [
    {
     "data": {
      "text/plain": [
       "{'부산': [4, 5, 6], '서울': [1, 2, 3], '인천': [7, 8]}"
      ]
     },
     "execution_count": 32,
     "metadata": {},
     "output_type": "execute_result"
    }
   ],
   "source": [
    "# 도시별 그룹핑 \n",
    "groupby = df.groupby('도시')\n",
    "groupby.groups"
   ]
  },
  {
   "cell_type": "code",
   "execution_count": 33,
   "id": "49efccfe-8a03-4b19-8683-2d8b626a6f92",
   "metadata": {
    "collapsed": true,
    "jupyter": {
     "outputs_hidden": true
    },
    "tags": []
   },
   "outputs": [
    {
     "name": "stdout",
     "output_type": "stream",
     "text": [
      "부산\n",
      "   도시    년도      인구수   지역\n",
      "4  부산  2015  3448737  경상권\n",
      "5  부산  2010  3393191  경상권\n",
      "6  부산  2005  3512547  경상권\n",
      "서울\n",
      "   도시    년도      인구수   지역\n",
      "1  서울  2015  9904312  수도권\n",
      "2  서울  2010  9631482  수도권\n",
      "3  서울  2005  9762546  수도권\n",
      "인천\n",
      "   도시    년도      인구수   지역\n",
      "7  인천  2015  2890451  수도권\n",
      "8  인천  2010   263203  수도권\n"
     ]
    }
   ],
   "source": [
    "# 반복문으로 그룹핑 결과 확인\n",
    "for gp, item in groupby:\n",
    "    print(gp)\n",
    "    print(item)"
   ]
  },
  {
   "cell_type": "code",
   "execution_count": 36,
   "id": "60d0091f-8415-4298-b2d2-cd5057834917",
   "metadata": {},
   "outputs": [
    {
     "data": {
      "text/plain": [
       "도시\n",
       "부산    10354475\n",
       "서울    29298340\n",
       "인천     3153654\n",
       "Name: 인구수, dtype: int64"
      ]
     },
     "execution_count": 36,
     "metadata": {},
     "output_type": "execute_result"
    }
   ],
   "source": [
    "# 그룹핑 결과에 집계함수 적용 1\n",
    "groupby['인구수'].sum()"
   ]
  },
  {
   "cell_type": "code",
   "execution_count": 37,
   "id": "61d76b7e-35bb-4ce8-bf7c-76bb3af0d257",
   "metadata": {},
   "outputs": [
    {
     "data": {
      "text/plain": [
       "도시\n",
       "부산    10354475\n",
       "서울    29298340\n",
       "인천     3153654\n",
       "Name: 인구수, dtype: int64"
      ]
     },
     "execution_count": 37,
     "metadata": {},
     "output_type": "execute_result"
    }
   ],
   "source": [
    "# 그룹핑 결과에 집계함수 적용 2\n",
    "groupby['인구수'].agg(np.sum)"
   ]
  },
  {
   "cell_type": "code",
   "execution_count": 38,
   "id": "219e4d53-7230-46a9-a32e-72ce07385ca8",
   "metadata": {},
   "outputs": [
    {
     "data": {
      "text/plain": [
       "도시\n",
       "부산    10354475\n",
       "서울    29298340\n",
       "인천     3153654\n",
       "Name: 인구수, dtype: int64"
      ]
     },
     "execution_count": 38,
     "metadata": {},
     "output_type": "execute_result"
    }
   ],
   "source": [
    "# 그룹핑 결과에 집계함수 적용 3\n",
    "groupby.sum(numeric_only=True)['인구수']"
   ]
  },
  {
   "cell_type": "markdown",
   "id": "e006c235-d393-4c23-96d5-f905feabb6de",
   "metadata": {},
   "source": [
    "### 도시별 평균 인구수\n",
    "+ 객체명.groupby(그룹핑컬럼)[대상컬럼].집계함수"
   ]
  },
  {
   "cell_type": "code",
   "execution_count": 45,
   "id": "4729460b-3b26-4151-9c7d-885df25ea275",
   "metadata": {},
   "outputs": [
    {
     "data": {
      "text/plain": [
       "도시\n",
       "부산   3,451,491.67\n",
       "서울   9,766,113.33\n",
       "인천   1,576,827.00\n",
       "Name: 인구수, dtype: float64"
      ]
     },
     "execution_count": 45,
     "metadata": {},
     "output_type": "execute_result"
    }
   ],
   "source": [
    "# df.groupby('도시').mean(numeric_only=True)['인구수']\n",
    "df.groupby('도시')['인구수'].mean()"
   ]
  },
  {
   "cell_type": "markdown",
   "id": "e392dad1-3a03-4c29-b233-844b0de99ad2",
   "metadata": {},
   "source": [
    "### 연도별 총인구수"
   ]
  },
  {
   "cell_type": "code",
   "execution_count": 46,
   "id": "67d95618-892c-4943-ac93-026cb000aa47",
   "metadata": {},
   "outputs": [
    {
     "data": {
      "text/plain": [
       "년도\n",
       "2005    13275093\n",
       "2010    13287876\n",
       "2015    16243500\n",
       "Name: 인구수, dtype: int64"
      ]
     },
     "execution_count": 46,
     "metadata": {},
     "output_type": "execute_result"
    }
   ],
   "source": [
    "df.groupby('년도')['인구수'].sum()"
   ]
  },
  {
   "cell_type": "markdown",
   "id": "7c3238bc-d63c-41b9-bc07-e933f8a5967b",
   "metadata": {},
   "source": [
    "### 지역별 연도별 평균 인구수"
   ]
  },
  {
   "cell_type": "code",
   "execution_count": 47,
   "id": "f98b7fac-d500-456b-ad88-74808fa8f97c",
   "metadata": {},
   "outputs": [
    {
     "data": {
      "text/plain": [
       "지역\n",
       "경상권   3,451,491.67\n",
       "수도권   6,490,398.80\n",
       "Name: 인구수, dtype: float64"
      ]
     },
     "execution_count": 47,
     "metadata": {},
     "output_type": "execute_result"
    }
   ],
   "source": [
    "df.groupby('지역')['인구수'].mean()"
   ]
  },
  {
   "cell_type": "markdown",
   "id": "bb766e46-2b0e-4f1c-aa3d-9f044bb2c093",
   "metadata": {},
   "source": [
    "## 피벗테이블\n",
    "* 소량 데이터는 별 다른 수고없이 통계분석이 가능\n",
    "* 하지만, 대량의 데이터는 통계분석하기에 어려움\n",
    "* 수많은 데이터 중에서 원하는 데이터만 골라서 테이블을 재구성한 것을 의미 - summary table\n",
    "* pivot(행,열,대상)"
   ]
  },
  {
   "cell_type": "markdown",
   "id": "ec40af9b-a54e-4c3f-9889-b66ce5510edd",
   "metadata": {},
   "source": [
    "### 도시별 연도별 평균 인구수"
   ]
  },
  {
   "cell_type": "code",
   "execution_count": 50,
   "id": "a58d3f7e-17f9-4adf-a29d-0224b63de4ed",
   "metadata": {
    "collapsed": true,
    "jupyter": {
     "outputs_hidden": true
    },
    "tags": []
   },
   "outputs": [
    {
     "data": {
      "text/plain": [
       "도시  년도  \n",
       "부산  2005   3,512,547.00\n",
       "    2010   3,393,191.00\n",
       "    2015   3,448,737.00\n",
       "서울  2005   9,762,546.00\n",
       "    2010   9,631,482.00\n",
       "    2015   9,904,312.00\n",
       "인천  2010     263,203.00\n",
       "    2015   2,890,451.00\n",
       "Name: 인구수, dtype: float64"
      ]
     },
     "execution_count": 50,
     "metadata": {},
     "output_type": "execute_result"
    }
   ],
   "source": [
    "# long column table - stack table\n",
    "df.groupby(['도시','년도'])['인구수'].mean()"
   ]
  },
  {
   "cell_type": "code",
   "execution_count": 53,
   "id": "89c75584-e2b3-4a30-be76-ba0105d2fc4d",
   "metadata": {
    "collapsed": true,
    "jupyter": {
     "outputs_hidden": true
    },
    "tags": []
   },
   "outputs": [
    {
     "name": "stderr",
     "output_type": "stream",
     "text": [
      "C:\\Users\\Public\\Documents\\ESTsoft\\CreatorTemp\\ipykernel_4016\\4187069982.py:1: FutureWarning: In a future version of pandas all arguments of DataFrame.pivot will be keyword-only.\n",
      "  df.pivot('도시','년도','인구수')\n"
     ]
    },
    {
     "data": {
      "text/html": [
       "<div>\n",
       "<style scoped>\n",
       "    .dataframe tbody tr th:only-of-type {\n",
       "        vertical-align: middle;\n",
       "    }\n",
       "\n",
       "    .dataframe tbody tr th {\n",
       "        vertical-align: top;\n",
       "    }\n",
       "\n",
       "    .dataframe thead th {\n",
       "        text-align: right;\n",
       "    }\n",
       "</style>\n",
       "<table border=\"1\" class=\"dataframe\">\n",
       "  <thead>\n",
       "    <tr style=\"text-align: right;\">\n",
       "      <th>년도</th>\n",
       "      <th>2005</th>\n",
       "      <th>2010</th>\n",
       "      <th>2015</th>\n",
       "    </tr>\n",
       "    <tr>\n",
       "      <th>도시</th>\n",
       "      <th></th>\n",
       "      <th></th>\n",
       "      <th></th>\n",
       "    </tr>\n",
       "  </thead>\n",
       "  <tbody>\n",
       "    <tr>\n",
       "      <th>부산</th>\n",
       "      <td>3,512,547.00</td>\n",
       "      <td>3,393,191.00</td>\n",
       "      <td>3,448,737.00</td>\n",
       "    </tr>\n",
       "    <tr>\n",
       "      <th>서울</th>\n",
       "      <td>9,762,546.00</td>\n",
       "      <td>9,631,482.00</td>\n",
       "      <td>9,904,312.00</td>\n",
       "    </tr>\n",
       "    <tr>\n",
       "      <th>인천</th>\n",
       "      <td>NaN</td>\n",
       "      <td>263,203.00</td>\n",
       "      <td>2,890,451.00</td>\n",
       "    </tr>\n",
       "  </tbody>\n",
       "</table>\n",
       "</div>"
      ],
      "text/plain": [
       "년도         2005         2010         2015\n",
       "도시                                       \n",
       "부산 3,512,547.00 3,393,191.00 3,448,737.00\n",
       "서울 9,762,546.00 9,631,482.00 9,904,312.00\n",
       "인천          NaN   263,203.00 2,890,451.00"
      ]
     },
     "execution_count": 53,
     "metadata": {},
     "output_type": "execute_result"
    }
   ],
   "source": [
    "# wide column table - unstack table\n",
    "df.pivot('도시','년도','인구수')"
   ]
  },
  {
   "cell_type": "markdown",
   "id": "f0ed9f97-5799-42ea-8431-1091348d51ae",
   "metadata": {},
   "source": [
    "### pivot_table\n",
    "* pivot과 groupby를 적당히 섞은 명령\n",
    "* pivot에서 지원하지 않는 다양한 집계함수 사용가능\n",
    "* pivot_table(대상,행,열,집계함수,총계여부)"
   ]
  },
  {
   "cell_type": "code",
   "execution_count": 58,
   "id": "b113ddec-4b9f-4c83-be32-90f5b03b9838",
   "metadata": {},
   "outputs": [
    {
     "data": {
      "text/html": [
       "<div>\n",
       "<style scoped>\n",
       "    .dataframe tbody tr th:only-of-type {\n",
       "        vertical-align: middle;\n",
       "    }\n",
       "\n",
       "    .dataframe tbody tr th {\n",
       "        vertical-align: top;\n",
       "    }\n",
       "\n",
       "    .dataframe thead th {\n",
       "        text-align: right;\n",
       "    }\n",
       "</style>\n",
       "<table border=\"1\" class=\"dataframe\">\n",
       "  <thead>\n",
       "    <tr style=\"text-align: right;\">\n",
       "      <th>년도</th>\n",
       "      <th>2005</th>\n",
       "      <th>2010</th>\n",
       "      <th>2015</th>\n",
       "    </tr>\n",
       "    <tr>\n",
       "      <th>도시</th>\n",
       "      <th></th>\n",
       "      <th></th>\n",
       "      <th></th>\n",
       "    </tr>\n",
       "  </thead>\n",
       "  <tbody>\n",
       "    <tr>\n",
       "      <th>부산</th>\n",
       "      <td>3,512,547.00</td>\n",
       "      <td>3,393,191.00</td>\n",
       "      <td>3,448,737.00</td>\n",
       "    </tr>\n",
       "    <tr>\n",
       "      <th>서울</th>\n",
       "      <td>9,762,546.00</td>\n",
       "      <td>9,631,482.00</td>\n",
       "      <td>9,904,312.00</td>\n",
       "    </tr>\n",
       "    <tr>\n",
       "      <th>인천</th>\n",
       "      <td>NaN</td>\n",
       "      <td>263,203.00</td>\n",
       "      <td>2,890,451.00</td>\n",
       "    </tr>\n",
       "  </tbody>\n",
       "</table>\n",
       "</div>"
      ],
      "text/plain": [
       "년도         2005         2010         2015\n",
       "도시                                       \n",
       "부산 3,512,547.00 3,393,191.00 3,448,737.00\n",
       "서울 9,762,546.00 9,631,482.00 9,904,312.00\n",
       "인천          NaN   263,203.00 2,890,451.00"
      ]
     },
     "execution_count": 58,
     "metadata": {},
     "output_type": "execute_result"
    }
   ],
   "source": [
    "# 도시별 연도별 평균 인구수\n",
    "df.pivot_table('인구수','도시','년도')"
   ]
  },
  {
   "cell_type": "code",
   "execution_count": 59,
   "id": "0cc60401-cf5d-4e0b-9d22-9d8e955e7f0d",
   "metadata": {},
   "outputs": [
    {
     "data": {
      "text/html": [
       "<div>\n",
       "<style scoped>\n",
       "    .dataframe tbody tr th:only-of-type {\n",
       "        vertical-align: middle;\n",
       "    }\n",
       "\n",
       "    .dataframe tbody tr th {\n",
       "        vertical-align: top;\n",
       "    }\n",
       "\n",
       "    .dataframe thead th {\n",
       "        text-align: right;\n",
       "    }\n",
       "</style>\n",
       "<table border=\"1\" class=\"dataframe\">\n",
       "  <thead>\n",
       "    <tr style=\"text-align: right;\">\n",
       "      <th>도시</th>\n",
       "      <th>부산</th>\n",
       "      <th>서울</th>\n",
       "      <th>인천</th>\n",
       "    </tr>\n",
       "    <tr>\n",
       "      <th>년도</th>\n",
       "      <th></th>\n",
       "      <th></th>\n",
       "      <th></th>\n",
       "    </tr>\n",
       "  </thead>\n",
       "  <tbody>\n",
       "    <tr>\n",
       "      <th>2005</th>\n",
       "      <td>3,512,547.00</td>\n",
       "      <td>9,762,546.00</td>\n",
       "      <td>NaN</td>\n",
       "    </tr>\n",
       "    <tr>\n",
       "      <th>2010</th>\n",
       "      <td>3,393,191.00</td>\n",
       "      <td>9,631,482.00</td>\n",
       "      <td>263,203.00</td>\n",
       "    </tr>\n",
       "    <tr>\n",
       "      <th>2015</th>\n",
       "      <td>3,448,737.00</td>\n",
       "      <td>9,904,312.00</td>\n",
       "      <td>2,890,451.00</td>\n",
       "    </tr>\n",
       "  </tbody>\n",
       "</table>\n",
       "</div>"
      ],
      "text/plain": [
       "도시             부산           서울           인천\n",
       "년도                                         \n",
       "2005 3,512,547.00 9,762,546.00          NaN\n",
       "2010 3,393,191.00 9,631,482.00   263,203.00\n",
       "2015 3,448,737.00 9,904,312.00 2,890,451.00"
      ]
     },
     "execution_count": 59,
     "metadata": {},
     "output_type": "execute_result"
    }
   ],
   "source": [
    "# 연도별 도시별 평균 인구수\n",
    "df.pivot_table('인구수','년도','도시')"
   ]
  },
  {
   "cell_type": "markdown",
   "id": "cdf917d0-45dc-4110-b4af-34594f22b568",
   "metadata": {},
   "source": [
    "## 팁 관련 데이터를 이용한 그룹핑"
   ]
  },
  {
   "cell_type": "code",
   "execution_count": 69,
   "id": "eb2792c5-3ee4-4a2c-a9e2-4291fabb86cf",
   "metadata": {},
   "outputs": [
    {
     "data": {
      "text/html": [
       "<div>\n",
       "<style scoped>\n",
       "    .dataframe tbody tr th:only-of-type {\n",
       "        vertical-align: middle;\n",
       "    }\n",
       "\n",
       "    .dataframe tbody tr th {\n",
       "        vertical-align: top;\n",
       "    }\n",
       "\n",
       "    .dataframe thead th {\n",
       "        text-align: right;\n",
       "    }\n",
       "</style>\n",
       "<table border=\"1\" class=\"dataframe\">\n",
       "  <thead>\n",
       "    <tr style=\"text-align: right;\">\n",
       "      <th></th>\n",
       "      <th>total_bill</th>\n",
       "      <th>tip</th>\n",
       "      <th>sex</th>\n",
       "      <th>smoker</th>\n",
       "      <th>day</th>\n",
       "      <th>time</th>\n",
       "      <th>size</th>\n",
       "    </tr>\n",
       "  </thead>\n",
       "  <tbody>\n",
       "    <tr>\n",
       "      <th>0</th>\n",
       "      <td>16.99</td>\n",
       "      <td>1.01</td>\n",
       "      <td>Female</td>\n",
       "      <td>No</td>\n",
       "      <td>Sun</td>\n",
       "      <td>Dinner</td>\n",
       "      <td>2</td>\n",
       "    </tr>\n",
       "    <tr>\n",
       "      <th>1</th>\n",
       "      <td>10.34</td>\n",
       "      <td>1.66</td>\n",
       "      <td>Male</td>\n",
       "      <td>No</td>\n",
       "      <td>Sun</td>\n",
       "      <td>Dinner</td>\n",
       "      <td>3</td>\n",
       "    </tr>\n",
       "    <tr>\n",
       "      <th>2</th>\n",
       "      <td>21.01</td>\n",
       "      <td>3.50</td>\n",
       "      <td>Male</td>\n",
       "      <td>No</td>\n",
       "      <td>Sun</td>\n",
       "      <td>Dinner</td>\n",
       "      <td>3</td>\n",
       "    </tr>\n",
       "    <tr>\n",
       "      <th>3</th>\n",
       "      <td>23.68</td>\n",
       "      <td>3.31</td>\n",
       "      <td>Male</td>\n",
       "      <td>No</td>\n",
       "      <td>Sun</td>\n",
       "      <td>Dinner</td>\n",
       "      <td>2</td>\n",
       "    </tr>\n",
       "    <tr>\n",
       "      <th>4</th>\n",
       "      <td>24.59</td>\n",
       "      <td>3.61</td>\n",
       "      <td>Female</td>\n",
       "      <td>No</td>\n",
       "      <td>Sun</td>\n",
       "      <td>Dinner</td>\n",
       "      <td>4</td>\n",
       "    </tr>\n",
       "  </tbody>\n",
       "</table>\n",
       "</div>"
      ],
      "text/plain": [
       "   total_bill  tip     sex smoker  day    time  size\n",
       "0       16.99 1.01  Female     No  Sun  Dinner     2\n",
       "1       10.34 1.66    Male     No  Sun  Dinner     3\n",
       "2       21.01 3.50    Male     No  Sun  Dinner     3\n",
       "3       23.68 3.31    Male     No  Sun  Dinner     2\n",
       "4       24.59 3.61  Female     No  Sun  Dinner     4"
      ]
     },
     "execution_count": 69,
     "metadata": {},
     "output_type": "execute_result"
    }
   ],
   "source": [
    "import seaborn as sns\n",
    "\n",
    "tips = sns.load_dataset('tips')\n",
    "tips.head()"
   ]
  },
  {
   "cell_type": "code",
   "execution_count": 62,
   "id": "0136d810-0ddf-4669-af94-2155056d0c2f",
   "metadata": {},
   "outputs": [
    {
     "name": "stdout",
     "output_type": "stream",
     "text": [
      "<class 'pandas.core.frame.DataFrame'>\n",
      "RangeIndex: 244 entries, 0 to 243\n",
      "Data columns (total 7 columns):\n",
      " #   Column      Non-Null Count  Dtype   \n",
      "---  ------      --------------  -----   \n",
      " 0   total_bill  244 non-null    float64 \n",
      " 1   tip         244 non-null    float64 \n",
      " 2   sex         244 non-null    category\n",
      " 3   smoker      244 non-null    category\n",
      " 4   day         244 non-null    category\n",
      " 5   time        244 non-null    category\n",
      " 6   size        244 non-null    int64   \n",
      "dtypes: category(4), float64(2), int64(1)\n",
      "memory usage: 7.4 KB\n"
     ]
    }
   ],
   "source": [
    "tips.info()"
   ]
  },
  {
   "cell_type": "code",
   "execution_count": 75,
   "id": "72d99359-3084-4e2d-b036-01b6514d92a6",
   "metadata": {
    "tags": []
   },
   "outputs": [
    {
     "data": {
      "text/plain": [
       "sex\n",
       "Male      157\n",
       "Female     87\n",
       "Name: tip, dtype: int64"
      ]
     },
     "execution_count": 75,
     "metadata": {},
     "output_type": "execute_result"
    }
   ],
   "source": [
    "# 성별 팁 현황 - 건수\n",
    "tips.groupby('sex')['tip'].count()"
   ]
  },
  {
   "cell_type": "code",
   "execution_count": 77,
   "id": "e35a91ce-4adc-4e14-91a9-23fedf74bd33",
   "metadata": {
    "tags": []
   },
   "outputs": [
    {
     "data": {
      "text/plain": [
       "sex\n",
       "Male     485.07\n",
       "Female   246.51\n",
       "Name: tip, dtype: float64"
      ]
     },
     "execution_count": 77,
     "metadata": {},
     "output_type": "execute_result"
    }
   ],
   "source": [
    "# 성별 팁 현황 - 팁 총금액\n",
    "tips.groupby('sex')['tip'].sum()"
   ]
  },
  {
   "cell_type": "code",
   "execution_count": 80,
   "id": "ecf29de8-0f0a-431d-9625-f73980af7c6c",
   "metadata": {
    "collapsed": true,
    "jupyter": {
     "outputs_hidden": true
    },
    "tags": []
   },
   "outputs": [
    {
     "data": {
      "text/html": [
       "<div>\n",
       "<style scoped>\n",
       "    .dataframe tbody tr th:only-of-type {\n",
       "        vertical-align: middle;\n",
       "    }\n",
       "\n",
       "    .dataframe tbody tr th {\n",
       "        vertical-align: top;\n",
       "    }\n",
       "\n",
       "    .dataframe thead th {\n",
       "        text-align: right;\n",
       "    }\n",
       "</style>\n",
       "<table border=\"1\" class=\"dataframe\">\n",
       "  <thead>\n",
       "    <tr style=\"text-align: right;\">\n",
       "      <th></th>\n",
       "      <th>tip</th>\n",
       "    </tr>\n",
       "    <tr>\n",
       "      <th>sex</th>\n",
       "      <th></th>\n",
       "    </tr>\n",
       "  </thead>\n",
       "  <tbody>\n",
       "    <tr>\n",
       "      <th>Male</th>\n",
       "      <td>485.07</td>\n",
       "    </tr>\n",
       "    <tr>\n",
       "      <th>Female</th>\n",
       "      <td>246.51</td>\n",
       "    </tr>\n",
       "  </tbody>\n",
       "</table>\n",
       "</div>"
      ],
      "text/plain": [
       "          tip\n",
       "sex          \n",
       "Male   485.07\n",
       "Female 246.51"
      ]
     },
     "execution_count": 80,
     "metadata": {},
     "output_type": "execute_result"
    }
   ],
   "source": [
    "tips.pivot_table('tip','sex', aggfunc=sum)"
   ]
  },
  {
   "cell_type": "code",
   "execution_count": 76,
   "id": "aff90e6d-5249-49b6-ad2f-1bc994958402",
   "metadata": {
    "collapsed": true,
    "jupyter": {
     "outputs_hidden": true
    },
    "tags": []
   },
   "outputs": [
    {
     "data": {
      "text/plain": [
       "sex     day \n",
       "Male    Thur    30\n",
       "        Fri     10\n",
       "        Sat     59\n",
       "        Sun     58\n",
       "Female  Thur    32\n",
       "        Fri      9\n",
       "        Sat     28\n",
       "        Sun     18\n",
       "Name: tip, dtype: int64"
      ]
     },
     "execution_count": 76,
     "metadata": {},
     "output_type": "execute_result"
    }
   ],
   "source": [
    "# 성별 요일별 팁 현황\n",
    "tips.groupby(['sex','day'])['tip'].count()"
   ]
  },
  {
   "cell_type": "code",
   "execution_count": 79,
   "id": "9007808b-54a5-4223-a1e1-d063c7c38d54",
   "metadata": {
    "collapsed": true,
    "jupyter": {
     "outputs_hidden": true
    },
    "tags": []
   },
   "outputs": [
    {
     "data": {
      "text/html": [
       "<div>\n",
       "<style scoped>\n",
       "    .dataframe tbody tr th:only-of-type {\n",
       "        vertical-align: middle;\n",
       "    }\n",
       "\n",
       "    .dataframe tbody tr th {\n",
       "        vertical-align: top;\n",
       "    }\n",
       "\n",
       "    .dataframe thead th {\n",
       "        text-align: right;\n",
       "    }\n",
       "</style>\n",
       "<table border=\"1\" class=\"dataframe\">\n",
       "  <thead>\n",
       "    <tr style=\"text-align: right;\">\n",
       "      <th>day</th>\n",
       "      <th>Thur</th>\n",
       "      <th>Fri</th>\n",
       "      <th>Sat</th>\n",
       "      <th>Sun</th>\n",
       "    </tr>\n",
       "    <tr>\n",
       "      <th>sex</th>\n",
       "      <th></th>\n",
       "      <th></th>\n",
       "      <th></th>\n",
       "      <th></th>\n",
       "    </tr>\n",
       "  </thead>\n",
       "  <tbody>\n",
       "    <tr>\n",
       "      <th>Male</th>\n",
       "      <td>89.41</td>\n",
       "      <td>26.93</td>\n",
       "      <td>181.95</td>\n",
       "      <td>186.78</td>\n",
       "    </tr>\n",
       "    <tr>\n",
       "      <th>Female</th>\n",
       "      <td>82.42</td>\n",
       "      <td>25.03</td>\n",
       "      <td>78.45</td>\n",
       "      <td>60.61</td>\n",
       "    </tr>\n",
       "  </tbody>\n",
       "</table>\n",
       "</div>"
      ],
      "text/plain": [
       "day     Thur   Fri    Sat    Sun\n",
       "sex                             \n",
       "Male   89.41 26.93 181.95 186.78\n",
       "Female 82.42 25.03  78.45  60.61"
      ]
     },
     "execution_count": 79,
     "metadata": {},
     "output_type": "execute_result"
    }
   ],
   "source": [
    "tips.pivot_table('tip','sex','day', aggfunc=sum)"
   ]
  },
  {
   "cell_type": "code",
   "execution_count": 82,
   "id": "6c0d0b8e-a7d2-4faf-aee6-760b13011cbd",
   "metadata": {
    "collapsed": true,
    "jupyter": {
     "outputs_hidden": true
    },
    "tags": []
   },
   "outputs": [
    {
     "data": {
      "text/plain": [
       "sex\n",
       "Male      157\n",
       "Female     87\n",
       "Name: tip, dtype: int64"
      ]
     },
     "execution_count": 82,
     "metadata": {},
     "output_type": "execute_result"
    }
   ],
   "source": [
    "# 팁을 준 고객의 성별 분류\n",
    "tips.groupby(['sex'])['tip'].count()"
   ]
  },
  {
   "cell_type": "code",
   "execution_count": 81,
   "id": "4231e5ad-9459-4995-a228-4bfe3aa1ff93",
   "metadata": {
    "collapsed": true,
    "jupyter": {
     "outputs_hidden": true
    },
    "tags": []
   },
   "outputs": [
    {
     "data": {
      "text/plain": [
       "sex     smoker\n",
       "Male    Yes       60\n",
       "        No        97\n",
       "Female  Yes       33\n",
       "        No        54\n",
       "Name: tip, dtype: int64"
      ]
     },
     "execution_count": 81,
     "metadata": {},
     "output_type": "execute_result"
    }
   ],
   "source": [
    "# 성별 흡연/비흡연 고객 분류\n",
    "tips.groupby(['sex','smoker'])['tip'].count()"
   ]
  },
  {
   "cell_type": "code",
   "execution_count": 83,
   "id": "1cccad7f-69f5-4647-9014-5f083120d604",
   "metadata": {
    "collapsed": true,
    "jupyter": {
     "outputs_hidden": true
    },
    "tags": []
   },
   "outputs": [
    {
     "data": {
      "text/plain": [
       "sex     smoker\n",
       "Male    Yes      183.07\n",
       "        No       302.00\n",
       "Female  Yes       96.74\n",
       "        No       149.77\n",
       "Name: tip, dtype: float64"
      ]
     },
     "execution_count": 83,
     "metadata": {},
     "output_type": "execute_result"
    }
   ],
   "source": [
    "tips.groupby(['sex','smoker'])['tip'].sum()"
   ]
  },
  {
   "cell_type": "code",
   "execution_count": 84,
   "id": "ef79496b-94f5-4479-bfe9-ca1e0289b96b",
   "metadata": {
    "collapsed": true,
    "jupyter": {
     "outputs_hidden": true
    },
    "tags": []
   },
   "outputs": [
    {
     "data": {
      "text/html": [
       "<div>\n",
       "<style scoped>\n",
       "    .dataframe tbody tr th:only-of-type {\n",
       "        vertical-align: middle;\n",
       "    }\n",
       "\n",
       "    .dataframe tbody tr th {\n",
       "        vertical-align: top;\n",
       "    }\n",
       "\n",
       "    .dataframe thead th {\n",
       "        text-align: right;\n",
       "    }\n",
       "</style>\n",
       "<table border=\"1\" class=\"dataframe\">\n",
       "  <thead>\n",
       "    <tr style=\"text-align: right;\">\n",
       "      <th>smoker</th>\n",
       "      <th>Yes</th>\n",
       "      <th>No</th>\n",
       "    </tr>\n",
       "    <tr>\n",
       "      <th>sex</th>\n",
       "      <th></th>\n",
       "      <th></th>\n",
       "    </tr>\n",
       "  </thead>\n",
       "  <tbody>\n",
       "    <tr>\n",
       "      <th>Male</th>\n",
       "      <td>183.07</td>\n",
       "      <td>302.00</td>\n",
       "    </tr>\n",
       "    <tr>\n",
       "      <th>Female</th>\n",
       "      <td>96.74</td>\n",
       "      <td>149.77</td>\n",
       "    </tr>\n",
       "  </tbody>\n",
       "</table>\n",
       "</div>"
      ],
      "text/plain": [
       "smoker    Yes     No\n",
       "sex                 \n",
       "Male   183.07 302.00\n",
       "Female  96.74 149.77"
      ]
     },
     "execution_count": 84,
     "metadata": {},
     "output_type": "execute_result"
    }
   ],
   "source": [
    "tips.pivot_table('tip','sex','smoker',aggfunc='sum')"
   ]
  },
  {
   "cell_type": "code",
   "execution_count": 85,
   "id": "e3525d97-7f4d-4a52-99fe-5d153106de63",
   "metadata": {
    "collapsed": true,
    "jupyter": {
     "outputs_hidden": true
    },
    "tags": []
   },
   "outputs": [
    {
     "data": {
      "text/html": [
       "<div>\n",
       "<style scoped>\n",
       "    .dataframe tbody tr th:only-of-type {\n",
       "        vertical-align: middle;\n",
       "    }\n",
       "\n",
       "    .dataframe tbody tr th {\n",
       "        vertical-align: top;\n",
       "    }\n",
       "\n",
       "    .dataframe thead th {\n",
       "        text-align: right;\n",
       "    }\n",
       "</style>\n",
       "<table border=\"1\" class=\"dataframe\">\n",
       "  <thead>\n",
       "    <tr style=\"text-align: right;\">\n",
       "      <th>smoker</th>\n",
       "      <th>Yes</th>\n",
       "      <th>No</th>\n",
       "    </tr>\n",
       "    <tr>\n",
       "      <th>sex</th>\n",
       "      <th></th>\n",
       "      <th></th>\n",
       "    </tr>\n",
       "  </thead>\n",
       "  <tbody>\n",
       "    <tr>\n",
       "      <th>Male</th>\n",
       "      <td>60</td>\n",
       "      <td>97</td>\n",
       "    </tr>\n",
       "    <tr>\n",
       "      <th>Female</th>\n",
       "      <td>33</td>\n",
       "      <td>54</td>\n",
       "    </tr>\n",
       "  </tbody>\n",
       "</table>\n",
       "</div>"
      ],
      "text/plain": [
       "smoker  Yes  No\n",
       "sex            \n",
       "Male     60  97\n",
       "Female   33  54"
      ]
     },
     "execution_count": 85,
     "metadata": {},
     "output_type": "execute_result"
    }
   ],
   "source": [
    "tips.pivot_table('tip','sex','smoker',aggfunc='count')"
   ]
  },
  {
   "cell_type": "code",
   "execution_count": 86,
   "id": "507269c4-0113-4ae8-96b1-ed76216871e2",
   "metadata": {
    "collapsed": true,
    "jupyter": {
     "outputs_hidden": true
    },
    "tags": []
   },
   "outputs": [
    {
     "data": {
      "text/plain": [
       "size\n",
       "1      4\n",
       "2    156\n",
       "3     38\n",
       "4     37\n",
       "5      5\n",
       "6      4\n",
       "Name: tip, dtype: int64"
      ]
     },
     "execution_count": 86,
     "metadata": {},
     "output_type": "execute_result"
    }
   ],
   "source": [
    "# 식사인원별 팁 여부\n",
    "tips.groupby('size')['tip'].count()"
   ]
  },
  {
   "cell_type": "code",
   "execution_count": 87,
   "id": "ab5d85c3-c097-478a-8124-34c0aa8ff1db",
   "metadata": {
    "collapsed": true,
    "jupyter": {
     "outputs_hidden": true
    },
    "tags": []
   },
   "outputs": [
    {
     "data": {
      "text/plain": [
       "size\n",
       "1     5.75\n",
       "2   402.84\n",
       "3   128.94\n",
       "4   153.01\n",
       "5    20.14\n",
       "6    20.90\n",
       "Name: tip, dtype: float64"
      ]
     },
     "execution_count": 87,
     "metadata": {},
     "output_type": "execute_result"
    }
   ],
   "source": [
    "tips.groupby('size')['tip'].sum()"
   ]
  },
  {
   "cell_type": "code",
   "execution_count": 88,
   "id": "01c6b5ad-acd7-4017-add0-2ff282b4fff7",
   "metadata": {
    "collapsed": true,
    "jupyter": {
     "outputs_hidden": true
    },
    "tags": []
   },
   "outputs": [
    {
     "data": {
      "text/html": [
       "<div>\n",
       "<style scoped>\n",
       "    .dataframe tbody tr th:only-of-type {\n",
       "        vertical-align: middle;\n",
       "    }\n",
       "\n",
       "    .dataframe tbody tr th {\n",
       "        vertical-align: top;\n",
       "    }\n",
       "\n",
       "    .dataframe thead th {\n",
       "        text-align: right;\n",
       "    }\n",
       "</style>\n",
       "<table border=\"1\" class=\"dataframe\">\n",
       "  <thead>\n",
       "    <tr style=\"text-align: right;\">\n",
       "      <th></th>\n",
       "      <th>tip</th>\n",
       "    </tr>\n",
       "    <tr>\n",
       "      <th>size</th>\n",
       "      <th></th>\n",
       "    </tr>\n",
       "  </thead>\n",
       "  <tbody>\n",
       "    <tr>\n",
       "      <th>1</th>\n",
       "      <td>4</td>\n",
       "    </tr>\n",
       "    <tr>\n",
       "      <th>2</th>\n",
       "      <td>156</td>\n",
       "    </tr>\n",
       "    <tr>\n",
       "      <th>3</th>\n",
       "      <td>38</td>\n",
       "    </tr>\n",
       "    <tr>\n",
       "      <th>4</th>\n",
       "      <td>37</td>\n",
       "    </tr>\n",
       "    <tr>\n",
       "      <th>5</th>\n",
       "      <td>5</td>\n",
       "    </tr>\n",
       "    <tr>\n",
       "      <th>6</th>\n",
       "      <td>4</td>\n",
       "    </tr>\n",
       "  </tbody>\n",
       "</table>\n",
       "</div>"
      ],
      "text/plain": [
       "      tip\n",
       "size     \n",
       "1       4\n",
       "2     156\n",
       "3      38\n",
       "4      37\n",
       "5       5\n",
       "6       4"
      ]
     },
     "execution_count": 88,
     "metadata": {},
     "output_type": "execute_result"
    }
   ],
   "source": [
    "tips.pivot_table('tip','size', aggfunc='count')"
   ]
  },
  {
   "cell_type": "code",
   "execution_count": 89,
   "id": "00a48aad-2a73-4c12-9731-28ca4f9cc9be",
   "metadata": {
    "collapsed": true,
    "jupyter": {
     "outputs_hidden": true
    },
    "tags": []
   },
   "outputs": [
    {
     "data": {
      "text/html": [
       "<div>\n",
       "<style scoped>\n",
       "    .dataframe tbody tr th:only-of-type {\n",
       "        vertical-align: middle;\n",
       "    }\n",
       "\n",
       "    .dataframe tbody tr th {\n",
       "        vertical-align: top;\n",
       "    }\n",
       "\n",
       "    .dataframe thead th {\n",
       "        text-align: right;\n",
       "    }\n",
       "</style>\n",
       "<table border=\"1\" class=\"dataframe\">\n",
       "  <thead>\n",
       "    <tr style=\"text-align: right;\">\n",
       "      <th></th>\n",
       "      <th>tip</th>\n",
       "    </tr>\n",
       "    <tr>\n",
       "      <th>size</th>\n",
       "      <th></th>\n",
       "    </tr>\n",
       "  </thead>\n",
       "  <tbody>\n",
       "    <tr>\n",
       "      <th>1</th>\n",
       "      <td>5.75</td>\n",
       "    </tr>\n",
       "    <tr>\n",
       "      <th>2</th>\n",
       "      <td>402.84</td>\n",
       "    </tr>\n",
       "    <tr>\n",
       "      <th>3</th>\n",
       "      <td>128.94</td>\n",
       "    </tr>\n",
       "    <tr>\n",
       "      <th>4</th>\n",
       "      <td>153.01</td>\n",
       "    </tr>\n",
       "    <tr>\n",
       "      <th>5</th>\n",
       "      <td>20.14</td>\n",
       "    </tr>\n",
       "    <tr>\n",
       "      <th>6</th>\n",
       "      <td>20.90</td>\n",
       "    </tr>\n",
       "  </tbody>\n",
       "</table>\n",
       "</div>"
      ],
      "text/plain": [
       "        tip\n",
       "size       \n",
       "1      5.75\n",
       "2    402.84\n",
       "3    128.94\n",
       "4    153.01\n",
       "5     20.14\n",
       "6     20.90"
      ]
     },
     "execution_count": 89,
     "metadata": {},
     "output_type": "execute_result"
    }
   ],
   "source": [
    "tips.pivot_table('tip','size', aggfunc='sum')"
   ]
  },
  {
   "cell_type": "markdown",
   "id": "3462779b-782f-44fc-ba1c-5c66ea51e72c",
   "metadata": {},
   "source": [
    "## Employees 와 Departments 데이터 분석"
   ]
  },
  {
   "cell_type": "code",
   "execution_count": 90,
   "id": "eab10975-7e91-48ac-8921-fb627b6b833a",
   "metadata": {},
   "outputs": [],
   "source": [
    "# 사원 데이터에서 직책별 사원수 조회\n",
    "# 사원 데이터에서 부서별 직책별 사원수 조회\n",
    "# 사원 데이터에서 부서별 직책별 급여 현황\n",
    "# 사원번호, 이름, 급여, 부서명 조회\n",
    "# 부서명별 사원수 조회"
   ]
  },
  {
   "cell_type": "code",
   "execution_count": null,
   "id": "f28ff5b0-4b6a-407a-bf3a-df01e613a599",
   "metadata": {},
   "outputs": [],
   "source": []
  }
 ],
 "metadata": {
  "kernelspec": {
   "display_name": "Python 3 (ipykernel)",
   "language": "python",
   "name": "python3"
  },
  "language_info": {
   "codemirror_mode": {
    "name": "ipython",
    "version": 3
   },
   "file_extension": ".py",
   "mimetype": "text/x-python",
   "name": "python",
   "nbconvert_exporter": "python",
   "pygments_lexer": "ipython3",
   "version": "3.9.13"
  }
 },
 "nbformat": 4,
 "nbformat_minor": 5
}
