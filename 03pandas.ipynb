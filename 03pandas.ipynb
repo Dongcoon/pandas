{
 "cells": [
  {
   "cell_type": "code",
   "execution_count": 1,
   "id": "11fd6fa4-9378-4a5a-a552-c5c14916eff7",
   "metadata": {},
   "outputs": [],
   "source": [
    "import numpy as np\n",
    "import pandas as pd"
   ]
  },
  {
   "cell_type": "markdown",
   "id": "08523209-af7c-417a-ab62-8c29e9762ca0",
   "metadata": {},
   "source": [
    "## 누락된 데이터missing data 다루기\n",
    "* null, NaN, NA, None\n",
    "* 파이썬/pandas에서는 NaN(float) 또는 None(object) 으로 취급\n",
    "* 단, 정수형 누락값인 NA는 pandas에서는 취급불가\n",
    "* 누락된 데이터는 numpy 모듈이 지원 (np.nan)"
   ]
  },
  {
   "cell_type": "markdown",
   "id": "4e97741f-ccbf-4c86-ab73-bccfbb666833",
   "metadata": {},
   "source": [
    "## 결측치 다루기"
   ]
  },
  {
   "cell_type": "code",
   "execution_count": 2,
   "id": "6ee06b77-0006-4ec3-b143-79fec9755d0b",
   "metadata": {},
   "outputs": [],
   "source": [
    "a = np.array([1,2,None,4,5])"
   ]
  },
  {
   "cell_type": "code",
   "execution_count": 3,
   "id": "87e0be80-a412-4a4a-9092-eb513b6fc614",
   "metadata": {},
   "outputs": [
    {
     "name": "stdout",
     "output_type": "stream",
     "text": [
      "object\n"
     ]
    }
   ],
   "source": [
    "# a.dtype\n",
    "print(a.dtype)  # 결측치가 있으면 object로 취급"
   ]
  },
  {
   "cell_type": "markdown",
   "id": "49f7775c-2a21-4ca2-a214-fb671f9158b4",
   "metadata": {
    "tags": []
   },
   "source": [
    "## 결측치 제대로 다루기 1"
   ]
  },
  {
   "cell_type": "code",
   "execution_count": 4,
   "id": "29c2444b-705d-4c9e-9938-ccee2a07b31e",
   "metadata": {},
   "outputs": [],
   "source": [
    "b = np.array([1,2,np.nan,4,5])"
   ]
  },
  {
   "cell_type": "code",
   "execution_count": 5,
   "id": "97147c89-b7f0-4734-beeb-ef3d7761605c",
   "metadata": {},
   "outputs": [
    {
     "data": {
      "text/plain": [
       "dtype('float64')"
      ]
     },
     "execution_count": 5,
     "metadata": {},
     "output_type": "execute_result"
    }
   ],
   "source": [
    "b.dtype"
   ]
  },
  {
   "cell_type": "code",
   "execution_count": 6,
   "id": "94116430-213c-4c52-8649-d01f73061fca",
   "metadata": {},
   "outputs": [
    {
     "data": {
      "text/plain": [
       "array([10., 20., nan, 40., 50.])"
      ]
     },
     "execution_count": 6,
     "metadata": {},
     "output_type": "execute_result"
    }
   ],
   "source": [
    "b * 10  # 연산 가능"
   ]
  },
  {
   "cell_type": "code",
   "execution_count": 7,
   "id": "a63c3255-54ae-4c37-9ba7-649aa3658fd4",
   "metadata": {},
   "outputs": [
    {
     "data": {
      "text/plain": [
       "nan"
      ]
     },
     "execution_count": 7,
     "metadata": {},
     "output_type": "execute_result"
    }
   ],
   "source": [
    "b.sum() # 연산 불가!"
   ]
  },
  {
   "cell_type": "markdown",
   "id": "3e952fc2-0216-493e-a9be-412aed1e85ba",
   "metadata": {},
   "source": [
    "## 결측치 제대로 다루기 2"
   ]
  },
  {
   "cell_type": "code",
   "execution_count": 8,
   "id": "0bdb3a06-e651-4986-aa68-e60649ced753",
   "metadata": {},
   "outputs": [],
   "source": [
    "c = pd.Series([1,2,np.nan,4,5])"
   ]
  },
  {
   "cell_type": "code",
   "execution_count": 9,
   "id": "452069d3-611e-47d5-8644-1bce784997da",
   "metadata": {},
   "outputs": [
    {
     "data": {
      "text/plain": [
       "dtype('float64')"
      ]
     },
     "execution_count": 9,
     "metadata": {},
     "output_type": "execute_result"
    }
   ],
   "source": [
    "c.dtype"
   ]
  },
  {
   "cell_type": "code",
   "execution_count": 10,
   "id": "8210259c-f883-4f79-9362-d9011ba70516",
   "metadata": {
    "collapsed": true,
    "jupyter": {
     "outputs_hidden": true
    },
    "tags": []
   },
   "outputs": [
    {
     "data": {
      "text/plain": [
       "0    10.0\n",
       "1    20.0\n",
       "2     NaN\n",
       "3    40.0\n",
       "4    50.0\n",
       "dtype: float64"
      ]
     },
     "execution_count": 10,
     "metadata": {},
     "output_type": "execute_result"
    }
   ],
   "source": [
    "c * 10"
   ]
  },
  {
   "cell_type": "code",
   "execution_count": 11,
   "id": "4fe4ae60-4d8a-452a-9ebb-b93509bd3d58",
   "metadata": {},
   "outputs": [
    {
     "data": {
      "text/plain": [
       "12.0"
      ]
     },
     "execution_count": 11,
     "metadata": {},
     "output_type": "execute_result"
    }
   ],
   "source": [
    "c.sum()"
   ]
  },
  {
   "cell_type": "markdown",
   "id": "a6ebe73e-0e0e-4c00-be49-22ff0e02db4f",
   "metadata": {},
   "source": [
    "## 매니저 평점 데이터 다루기\n",
    "+ 매니저별 설문 총합, 평균 계산"
   ]
  },
  {
   "cell_type": "code",
   "execution_count": 13,
   "id": "fb939855-8281-4c2d-8456-e6bc0bbca853",
   "metadata": {
    "collapsed": true,
    "jupyter": {
     "outputs_hidden": true
    },
    "tags": []
   },
   "outputs": [
    {
     "data": {
      "text/html": [
       "<div>\n",
       "<style scoped>\n",
       "    .dataframe tbody tr th:only-of-type {\n",
       "        vertical-align: middle;\n",
       "    }\n",
       "\n",
       "    .dataframe tbody tr th {\n",
       "        vertical-align: top;\n",
       "    }\n",
       "\n",
       "    .dataframe thead th {\n",
       "        text-align: right;\n",
       "    }\n",
       "</style>\n",
       "<table border=\"1\" class=\"dataframe\">\n",
       "  <thead>\n",
       "    <tr style=\"text-align: right;\">\n",
       "      <th></th>\n",
       "      <th>Manager</th>\n",
       "      <th>Date</th>\n",
       "      <th>Country</th>\n",
       "      <th>Gender</th>\n",
       "      <th>Age</th>\n",
       "      <th>q1</th>\n",
       "      <th>q2</th>\n",
       "      <th>q3</th>\n",
       "      <th>q4</th>\n",
       "      <th>q5</th>\n",
       "    </tr>\n",
       "  </thead>\n",
       "  <tbody>\n",
       "    <tr>\n",
       "      <th>0</th>\n",
       "      <td>1</td>\n",
       "      <td>10/24/14</td>\n",
       "      <td>US</td>\n",
       "      <td>M</td>\n",
       "      <td>32</td>\n",
       "      <td>5</td>\n",
       "      <td>4</td>\n",
       "      <td>5</td>\n",
       "      <td>5.0</td>\n",
       "      <td>5.0</td>\n",
       "    </tr>\n",
       "    <tr>\n",
       "      <th>1</th>\n",
       "      <td>2</td>\n",
       "      <td>10/28/14</td>\n",
       "      <td>US</td>\n",
       "      <td>F</td>\n",
       "      <td>45</td>\n",
       "      <td>3</td>\n",
       "      <td>5</td>\n",
       "      <td>2</td>\n",
       "      <td>5.0</td>\n",
       "      <td>5.0</td>\n",
       "    </tr>\n",
       "    <tr>\n",
       "      <th>2</th>\n",
       "      <td>3</td>\n",
       "      <td>10/01/14</td>\n",
       "      <td>UK</td>\n",
       "      <td>F</td>\n",
       "      <td>25</td>\n",
       "      <td>3</td>\n",
       "      <td>5</td>\n",
       "      <td>5</td>\n",
       "      <td>5.0</td>\n",
       "      <td>2.0</td>\n",
       "    </tr>\n",
       "    <tr>\n",
       "      <th>3</th>\n",
       "      <td>4</td>\n",
       "      <td>10/12/14</td>\n",
       "      <td>UK</td>\n",
       "      <td>M</td>\n",
       "      <td>39</td>\n",
       "      <td>3</td>\n",
       "      <td>3</td>\n",
       "      <td>4</td>\n",
       "      <td>NaN</td>\n",
       "      <td>NaN</td>\n",
       "    </tr>\n",
       "    <tr>\n",
       "      <th>4</th>\n",
       "      <td>5</td>\n",
       "      <td>05/01/14</td>\n",
       "      <td>UK</td>\n",
       "      <td>F</td>\n",
       "      <td>99</td>\n",
       "      <td>2</td>\n",
       "      <td>2</td>\n",
       "      <td>1</td>\n",
       "      <td>2.0</td>\n",
       "      <td>1.0</td>\n",
       "    </tr>\n",
       "  </tbody>\n",
       "</table>\n",
       "</div>"
      ],
      "text/plain": [
       "   Manager      Date Country Gender  Age  q1  q2  q3   q4   q5\n",
       "0        1  10/24/14      US      M   32   5   4   5  5.0  5.0\n",
       "1        2  10/28/14      US      F   45   3   5   2  5.0  5.0\n",
       "2        3  10/01/14      UK      F   25   3   5   5  5.0  2.0\n",
       "3        4  10/12/14      UK      M   39   3   3   4  NaN  NaN\n",
       "4        5  05/01/14      UK      F   99   2   2   1  2.0  1.0"
      ]
     },
     "execution_count": 13,
     "metadata": {},
     "output_type": "execute_result"
    }
   ],
   "source": [
    "managers = pd.read_csv('data/managers.csv')\n",
    "managers.head()"
   ]
  },
  {
   "cell_type": "code",
   "execution_count": 16,
   "id": "718259b3-8aa0-4cdd-ac9f-f0b186672638",
   "metadata": {},
   "outputs": [
    {
     "data": {
      "text/plain": [
       "17.0"
      ]
     },
     "execution_count": 16,
     "metadata": {},
     "output_type": "execute_result"
    }
   ],
   "source": [
    "# q4의 총합 계산 - 열우선\n",
    "managers.q4.sum()"
   ]
  },
  {
   "cell_type": "code",
   "execution_count": 21,
   "id": "e48ad3dd-b697-4de8-84f1-a076d32eb456",
   "metadata": {
    "collapsed": true,
    "jupyter": {
     "outputs_hidden": true
    },
    "tags": []
   },
   "outputs": [
    {
     "data": {
      "text/plain": [
       "0    24.0\n",
       "1    20.0\n",
       "2    20.0\n",
       "3    10.0\n",
       "4     8.0\n",
       "dtype: float64"
      ]
     },
     "execution_count": 21,
     "metadata": {},
     "output_type": "execute_result"
    }
   ],
   "source": [
    "# q1 ~ q5의 총합 계산 - 열우선\n",
    "managers.loc[:,'q1':'q5'].sum(axis=1)"
   ]
  },
  {
   "cell_type": "markdown",
   "id": "b47f98a9-a67d-4100-bece-e0adac92befd",
   "metadata": {},
   "source": [
    "## dataframe에 새로운 항목 추가\n",
    "+ 기존 컬럼의 값을 기준으로 새로운 컬럼을 생성할 수 있음 - **파생변수**\n",
    "+ 기존 변수를 조합해서 새로운 변수를 만들어 냄\n",
    "+ 데이터를 분석하기 좋은 형태로 만들기 위해 수행\n",
    "+ 객체명['새로운컬럼명'] = 값들"
   ]
  },
  {
   "cell_type": "code",
   "execution_count": 22,
   "id": "d7dd7dd2-93af-4b61-bcdf-d1e9ba3b245f",
   "metadata": {},
   "outputs": [],
   "source": [
    "# 평점 총합, 평균을 qsum, qmean이라는 새로운 컬럼으로 생성\n",
    "qsum = managers.loc[:,'q1':'q5'].sum(axis=1)\n",
    "qmean = managers.loc[:,'q1':'q5'].mean(axis=1)"
   ]
  },
  {
   "cell_type": "code",
   "execution_count": 25,
   "id": "5519e9bc-0869-4086-b9ee-47cf5074b409",
   "metadata": {},
   "outputs": [],
   "source": [
    "managers['qsum'] = qsum\n",
    "managers['qmean'] = qmean"
   ]
  },
  {
   "cell_type": "code",
   "execution_count": 26,
   "id": "9b1ad095-cd35-454b-9cdb-ef68c27e13b8",
   "metadata": {
    "collapsed": true,
    "jupyter": {
     "outputs_hidden": true
    },
    "tags": []
   },
   "outputs": [
    {
     "data": {
      "text/html": [
       "<div>\n",
       "<style scoped>\n",
       "    .dataframe tbody tr th:only-of-type {\n",
       "        vertical-align: middle;\n",
       "    }\n",
       "\n",
       "    .dataframe tbody tr th {\n",
       "        vertical-align: top;\n",
       "    }\n",
       "\n",
       "    .dataframe thead th {\n",
       "        text-align: right;\n",
       "    }\n",
       "</style>\n",
       "<table border=\"1\" class=\"dataframe\">\n",
       "  <thead>\n",
       "    <tr style=\"text-align: right;\">\n",
       "      <th></th>\n",
       "      <th>Manager</th>\n",
       "      <th>Date</th>\n",
       "      <th>Country</th>\n",
       "      <th>Gender</th>\n",
       "      <th>Age</th>\n",
       "      <th>q1</th>\n",
       "      <th>q2</th>\n",
       "      <th>q3</th>\n",
       "      <th>q4</th>\n",
       "      <th>q5</th>\n",
       "      <th>qsum</th>\n",
       "      <th>qmean</th>\n",
       "    </tr>\n",
       "  </thead>\n",
       "  <tbody>\n",
       "    <tr>\n",
       "      <th>0</th>\n",
       "      <td>1</td>\n",
       "      <td>10/24/14</td>\n",
       "      <td>US</td>\n",
       "      <td>M</td>\n",
       "      <td>32</td>\n",
       "      <td>5</td>\n",
       "      <td>4</td>\n",
       "      <td>5</td>\n",
       "      <td>5.0</td>\n",
       "      <td>5.0</td>\n",
       "      <td>24.0</td>\n",
       "      <td>4.800000</td>\n",
       "    </tr>\n",
       "    <tr>\n",
       "      <th>1</th>\n",
       "      <td>2</td>\n",
       "      <td>10/28/14</td>\n",
       "      <td>US</td>\n",
       "      <td>F</td>\n",
       "      <td>45</td>\n",
       "      <td>3</td>\n",
       "      <td>5</td>\n",
       "      <td>2</td>\n",
       "      <td>5.0</td>\n",
       "      <td>5.0</td>\n",
       "      <td>20.0</td>\n",
       "      <td>4.000000</td>\n",
       "    </tr>\n",
       "    <tr>\n",
       "      <th>2</th>\n",
       "      <td>3</td>\n",
       "      <td>10/01/14</td>\n",
       "      <td>UK</td>\n",
       "      <td>F</td>\n",
       "      <td>25</td>\n",
       "      <td>3</td>\n",
       "      <td>5</td>\n",
       "      <td>5</td>\n",
       "      <td>5.0</td>\n",
       "      <td>2.0</td>\n",
       "      <td>20.0</td>\n",
       "      <td>4.000000</td>\n",
       "    </tr>\n",
       "    <tr>\n",
       "      <th>3</th>\n",
       "      <td>4</td>\n",
       "      <td>10/12/14</td>\n",
       "      <td>UK</td>\n",
       "      <td>M</td>\n",
       "      <td>39</td>\n",
       "      <td>3</td>\n",
       "      <td>3</td>\n",
       "      <td>4</td>\n",
       "      <td>NaN</td>\n",
       "      <td>NaN</td>\n",
       "      <td>10.0</td>\n",
       "      <td>3.333333</td>\n",
       "    </tr>\n",
       "    <tr>\n",
       "      <th>4</th>\n",
       "      <td>5</td>\n",
       "      <td>05/01/14</td>\n",
       "      <td>UK</td>\n",
       "      <td>F</td>\n",
       "      <td>99</td>\n",
       "      <td>2</td>\n",
       "      <td>2</td>\n",
       "      <td>1</td>\n",
       "      <td>2.0</td>\n",
       "      <td>1.0</td>\n",
       "      <td>8.0</td>\n",
       "      <td>1.600000</td>\n",
       "    </tr>\n",
       "  </tbody>\n",
       "</table>\n",
       "</div>"
      ],
      "text/plain": [
       "   Manager      Date Country Gender  Age  q1  q2  q3   q4   q5  qsum     qmean\n",
       "0        1  10/24/14      US      M   32   5   4   5  5.0  5.0  24.0  4.800000\n",
       "1        2  10/28/14      US      F   45   3   5   2  5.0  5.0  20.0  4.000000\n",
       "2        3  10/01/14      UK      F   25   3   5   5  5.0  2.0  20.0  4.000000\n",
       "3        4  10/12/14      UK      M   39   3   3   4  NaN  NaN  10.0  3.333333\n",
       "4        5  05/01/14      UK      F   99   2   2   1  2.0  1.0   8.0  1.600000"
      ]
     },
     "execution_count": 26,
     "metadata": {},
     "output_type": "execute_result"
    }
   ],
   "source": [
    "managers"
   ]
  },
  {
   "cell_type": "markdown",
   "id": "ff33f0b2-4edd-4dc5-9394-5535890657d0",
   "metadata": {},
   "source": [
    "### 결측치 감지 및 처리\n",
    "+ isna (pandas 0.21부터 지원), dropna, fillna"
   ]
  },
  {
   "cell_type": "code",
   "execution_count": 27,
   "id": "cf6d9b00-0968-46df-8094-da35312ea66c",
   "metadata": {
    "collapsed": true,
    "jupyter": {
     "outputs_hidden": true
    },
    "tags": []
   },
   "outputs": [
    {
     "data": {
      "text/html": [
       "<div>\n",
       "<style scoped>\n",
       "    .dataframe tbody tr th:only-of-type {\n",
       "        vertical-align: middle;\n",
       "    }\n",
       "\n",
       "    .dataframe tbody tr th {\n",
       "        vertical-align: top;\n",
       "    }\n",
       "\n",
       "    .dataframe thead th {\n",
       "        text-align: right;\n",
       "    }\n",
       "</style>\n",
       "<table border=\"1\" class=\"dataframe\">\n",
       "  <thead>\n",
       "    <tr style=\"text-align: right;\">\n",
       "      <th></th>\n",
       "      <th>Manager</th>\n",
       "      <th>Date</th>\n",
       "      <th>Country</th>\n",
       "      <th>Gender</th>\n",
       "      <th>Age</th>\n",
       "      <th>q1</th>\n",
       "      <th>q2</th>\n",
       "      <th>q3</th>\n",
       "      <th>q4</th>\n",
       "      <th>q5</th>\n",
       "      <th>qsum</th>\n",
       "      <th>qmean</th>\n",
       "    </tr>\n",
       "  </thead>\n",
       "  <tbody>\n",
       "    <tr>\n",
       "      <th>0</th>\n",
       "      <td>False</td>\n",
       "      <td>False</td>\n",
       "      <td>False</td>\n",
       "      <td>False</td>\n",
       "      <td>False</td>\n",
       "      <td>False</td>\n",
       "      <td>False</td>\n",
       "      <td>False</td>\n",
       "      <td>False</td>\n",
       "      <td>False</td>\n",
       "      <td>False</td>\n",
       "      <td>False</td>\n",
       "    </tr>\n",
       "    <tr>\n",
       "      <th>1</th>\n",
       "      <td>False</td>\n",
       "      <td>False</td>\n",
       "      <td>False</td>\n",
       "      <td>False</td>\n",
       "      <td>False</td>\n",
       "      <td>False</td>\n",
       "      <td>False</td>\n",
       "      <td>False</td>\n",
       "      <td>False</td>\n",
       "      <td>False</td>\n",
       "      <td>False</td>\n",
       "      <td>False</td>\n",
       "    </tr>\n",
       "    <tr>\n",
       "      <th>2</th>\n",
       "      <td>False</td>\n",
       "      <td>False</td>\n",
       "      <td>False</td>\n",
       "      <td>False</td>\n",
       "      <td>False</td>\n",
       "      <td>False</td>\n",
       "      <td>False</td>\n",
       "      <td>False</td>\n",
       "      <td>False</td>\n",
       "      <td>False</td>\n",
       "      <td>False</td>\n",
       "      <td>False</td>\n",
       "    </tr>\n",
       "    <tr>\n",
       "      <th>3</th>\n",
       "      <td>False</td>\n",
       "      <td>False</td>\n",
       "      <td>False</td>\n",
       "      <td>False</td>\n",
       "      <td>False</td>\n",
       "      <td>False</td>\n",
       "      <td>False</td>\n",
       "      <td>False</td>\n",
       "      <td>True</td>\n",
       "      <td>True</td>\n",
       "      <td>False</td>\n",
       "      <td>False</td>\n",
       "    </tr>\n",
       "    <tr>\n",
       "      <th>4</th>\n",
       "      <td>False</td>\n",
       "      <td>False</td>\n",
       "      <td>False</td>\n",
       "      <td>False</td>\n",
       "      <td>False</td>\n",
       "      <td>False</td>\n",
       "      <td>False</td>\n",
       "      <td>False</td>\n",
       "      <td>False</td>\n",
       "      <td>False</td>\n",
       "      <td>False</td>\n",
       "      <td>False</td>\n",
       "    </tr>\n",
       "  </tbody>\n",
       "</table>\n",
       "</div>"
      ],
      "text/plain": [
       "   Manager   Date  Country  Gender    Age     q1     q2     q3     q4     q5  \\\n",
       "0    False  False    False   False  False  False  False  False  False  False   \n",
       "1    False  False    False   False  False  False  False  False  False  False   \n",
       "2    False  False    False   False  False  False  False  False  False  False   \n",
       "3    False  False    False   False  False  False  False  False   True   True   \n",
       "4    False  False    False   False  False  False  False  False  False  False   \n",
       "\n",
       "    qsum  qmean  \n",
       "0  False  False  \n",
       "1  False  False  \n",
       "2  False  False  \n",
       "3  False  False  \n",
       "4  False  False  "
      ]
     },
     "execution_count": 27,
     "metadata": {},
     "output_type": "execute_result"
    }
   ],
   "source": [
    "# 결측치 존재 여부\n",
    "managers.isna()"
   ]
  },
  {
   "cell_type": "code",
   "execution_count": 28,
   "id": "7b60f5dd-3640-43dc-84ea-1c9fea8fedf1",
   "metadata": {
    "collapsed": true,
    "jupyter": {
     "outputs_hidden": true
    },
    "tags": []
   },
   "outputs": [
    {
     "data": {
      "text/html": [
       "<div>\n",
       "<style scoped>\n",
       "    .dataframe tbody tr th:only-of-type {\n",
       "        vertical-align: middle;\n",
       "    }\n",
       "\n",
       "    .dataframe tbody tr th {\n",
       "        vertical-align: top;\n",
       "    }\n",
       "\n",
       "    .dataframe thead th {\n",
       "        text-align: right;\n",
       "    }\n",
       "</style>\n",
       "<table border=\"1\" class=\"dataframe\">\n",
       "  <thead>\n",
       "    <tr style=\"text-align: right;\">\n",
       "      <th></th>\n",
       "      <th>Manager</th>\n",
       "      <th>Date</th>\n",
       "      <th>Country</th>\n",
       "      <th>Gender</th>\n",
       "      <th>Age</th>\n",
       "      <th>q1</th>\n",
       "      <th>q2</th>\n",
       "      <th>q3</th>\n",
       "      <th>q4</th>\n",
       "      <th>q5</th>\n",
       "      <th>qsum</th>\n",
       "      <th>qmean</th>\n",
       "    </tr>\n",
       "  </thead>\n",
       "  <tbody>\n",
       "    <tr>\n",
       "      <th>0</th>\n",
       "      <td>False</td>\n",
       "      <td>False</td>\n",
       "      <td>False</td>\n",
       "      <td>False</td>\n",
       "      <td>False</td>\n",
       "      <td>False</td>\n",
       "      <td>False</td>\n",
       "      <td>False</td>\n",
       "      <td>False</td>\n",
       "      <td>False</td>\n",
       "      <td>False</td>\n",
       "      <td>False</td>\n",
       "    </tr>\n",
       "    <tr>\n",
       "      <th>1</th>\n",
       "      <td>False</td>\n",
       "      <td>False</td>\n",
       "      <td>False</td>\n",
       "      <td>False</td>\n",
       "      <td>False</td>\n",
       "      <td>False</td>\n",
       "      <td>False</td>\n",
       "      <td>False</td>\n",
       "      <td>False</td>\n",
       "      <td>False</td>\n",
       "      <td>False</td>\n",
       "      <td>False</td>\n",
       "    </tr>\n",
       "    <tr>\n",
       "      <th>2</th>\n",
       "      <td>False</td>\n",
       "      <td>False</td>\n",
       "      <td>False</td>\n",
       "      <td>False</td>\n",
       "      <td>False</td>\n",
       "      <td>False</td>\n",
       "      <td>False</td>\n",
       "      <td>False</td>\n",
       "      <td>False</td>\n",
       "      <td>False</td>\n",
       "      <td>False</td>\n",
       "      <td>False</td>\n",
       "    </tr>\n",
       "    <tr>\n",
       "      <th>3</th>\n",
       "      <td>False</td>\n",
       "      <td>False</td>\n",
       "      <td>False</td>\n",
       "      <td>False</td>\n",
       "      <td>False</td>\n",
       "      <td>False</td>\n",
       "      <td>False</td>\n",
       "      <td>False</td>\n",
       "      <td>True</td>\n",
       "      <td>True</td>\n",
       "      <td>False</td>\n",
       "      <td>False</td>\n",
       "    </tr>\n",
       "    <tr>\n",
       "      <th>4</th>\n",
       "      <td>False</td>\n",
       "      <td>False</td>\n",
       "      <td>False</td>\n",
       "      <td>False</td>\n",
       "      <td>False</td>\n",
       "      <td>False</td>\n",
       "      <td>False</td>\n",
       "      <td>False</td>\n",
       "      <td>False</td>\n",
       "      <td>False</td>\n",
       "      <td>False</td>\n",
       "      <td>False</td>\n",
       "    </tr>\n",
       "  </tbody>\n",
       "</table>\n",
       "</div>"
      ],
      "text/plain": [
       "   Manager   Date  Country  Gender    Age     q1     q2     q3     q4     q5  \\\n",
       "0    False  False    False   False  False  False  False  False  False  False   \n",
       "1    False  False    False   False  False  False  False  False  False  False   \n",
       "2    False  False    False   False  False  False  False  False  False  False   \n",
       "3    False  False    False   False  False  False  False  False   True   True   \n",
       "4    False  False    False   False  False  False  False  False  False  False   \n",
       "\n",
       "    qsum  qmean  \n",
       "0  False  False  \n",
       "1  False  False  \n",
       "2  False  False  \n",
       "3  False  False  \n",
       "4  False  False  "
      ]
     },
     "execution_count": 28,
     "metadata": {},
     "output_type": "execute_result"
    }
   ],
   "source": [
    "managers.isnull()"
   ]
  },
  {
   "cell_type": "code",
   "execution_count": 29,
   "id": "517ac890-5f12-412d-b2df-09b5dde830a0",
   "metadata": {
    "collapsed": true,
    "jupyter": {
     "outputs_hidden": true
    },
    "tags": []
   },
   "outputs": [
    {
     "data": {
      "text/plain": [
       "Manager    0\n",
       "Date       0\n",
       "Country    0\n",
       "Gender     0\n",
       "Age        0\n",
       "q1         0\n",
       "q2         0\n",
       "q3         0\n",
       "q4         1\n",
       "q5         1\n",
       "qsum       0\n",
       "qmean      0\n",
       "dtype: int64"
      ]
     },
     "execution_count": 29,
     "metadata": {},
     "output_type": "execute_result"
    }
   ],
   "source": [
    "# 컬럼별 결측치 현황 확인\n",
    "managers.isna().sum()"
   ]
  },
  {
   "cell_type": "markdown",
   "id": "471b85a5-cde7-4c10-b1a2-ad717d2a0fcb",
   "metadata": {},
   "source": [
    "### 결측치 제거"
   ]
  },
  {
   "cell_type": "code",
   "execution_count": 31,
   "id": "7ecb4f4f-9f0a-4849-ab5e-2e6cdd8f8bc9",
   "metadata": {
    "collapsed": true,
    "jupyter": {
     "outputs_hidden": true
    },
    "tags": []
   },
   "outputs": [
    {
     "data": {
      "text/html": [
       "<div>\n",
       "<style scoped>\n",
       "    .dataframe tbody tr th:only-of-type {\n",
       "        vertical-align: middle;\n",
       "    }\n",
       "\n",
       "    .dataframe tbody tr th {\n",
       "        vertical-align: top;\n",
       "    }\n",
       "\n",
       "    .dataframe thead th {\n",
       "        text-align: right;\n",
       "    }\n",
       "</style>\n",
       "<table border=\"1\" class=\"dataframe\">\n",
       "  <thead>\n",
       "    <tr style=\"text-align: right;\">\n",
       "      <th></th>\n",
       "      <th>Manager</th>\n",
       "      <th>Date</th>\n",
       "      <th>Country</th>\n",
       "      <th>Gender</th>\n",
       "      <th>Age</th>\n",
       "      <th>q1</th>\n",
       "      <th>q2</th>\n",
       "      <th>q3</th>\n",
       "      <th>q4</th>\n",
       "      <th>q5</th>\n",
       "      <th>qsum</th>\n",
       "      <th>qmean</th>\n",
       "    </tr>\n",
       "  </thead>\n",
       "  <tbody>\n",
       "    <tr>\n",
       "      <th>0</th>\n",
       "      <td>1</td>\n",
       "      <td>10/24/14</td>\n",
       "      <td>US</td>\n",
       "      <td>M</td>\n",
       "      <td>32</td>\n",
       "      <td>5</td>\n",
       "      <td>4</td>\n",
       "      <td>5</td>\n",
       "      <td>5.0</td>\n",
       "      <td>5.0</td>\n",
       "      <td>24.0</td>\n",
       "      <td>4.8</td>\n",
       "    </tr>\n",
       "    <tr>\n",
       "      <th>1</th>\n",
       "      <td>2</td>\n",
       "      <td>10/28/14</td>\n",
       "      <td>US</td>\n",
       "      <td>F</td>\n",
       "      <td>45</td>\n",
       "      <td>3</td>\n",
       "      <td>5</td>\n",
       "      <td>2</td>\n",
       "      <td>5.0</td>\n",
       "      <td>5.0</td>\n",
       "      <td>20.0</td>\n",
       "      <td>4.0</td>\n",
       "    </tr>\n",
       "    <tr>\n",
       "      <th>2</th>\n",
       "      <td>3</td>\n",
       "      <td>10/01/14</td>\n",
       "      <td>UK</td>\n",
       "      <td>F</td>\n",
       "      <td>25</td>\n",
       "      <td>3</td>\n",
       "      <td>5</td>\n",
       "      <td>5</td>\n",
       "      <td>5.0</td>\n",
       "      <td>2.0</td>\n",
       "      <td>20.0</td>\n",
       "      <td>4.0</td>\n",
       "    </tr>\n",
       "    <tr>\n",
       "      <th>4</th>\n",
       "      <td>5</td>\n",
       "      <td>05/01/14</td>\n",
       "      <td>UK</td>\n",
       "      <td>F</td>\n",
       "      <td>99</td>\n",
       "      <td>2</td>\n",
       "      <td>2</td>\n",
       "      <td>1</td>\n",
       "      <td>2.0</td>\n",
       "      <td>1.0</td>\n",
       "      <td>8.0</td>\n",
       "      <td>1.6</td>\n",
       "    </tr>\n",
       "  </tbody>\n",
       "</table>\n",
       "</div>"
      ],
      "text/plain": [
       "   Manager      Date Country Gender  Age  q1  q2  q3   q4   q5  qsum  qmean\n",
       "0        1  10/24/14      US      M   32   5   4   5  5.0  5.0  24.0    4.8\n",
       "1        2  10/28/14      US      F   45   3   5   2  5.0  5.0  20.0    4.0\n",
       "2        3  10/01/14      UK      F   25   3   5   5  5.0  2.0  20.0    4.0\n",
       "4        5  05/01/14      UK      F   99   2   2   1  2.0  1.0   8.0    1.6"
      ]
     },
     "execution_count": 31,
     "metadata": {},
     "output_type": "execute_result"
    }
   ],
   "source": [
    "m = managers\n",
    "m = m.dropna()  # 행 기준 삭제\n",
    "m.head()"
   ]
  },
  {
   "cell_type": "code",
   "execution_count": 33,
   "id": "0a2fe7fe-ead1-47ab-bd3b-b94f6cf72873",
   "metadata": {
    "collapsed": true,
    "jupyter": {
     "outputs_hidden": true
    },
    "tags": []
   },
   "outputs": [
    {
     "data": {
      "text/html": [
       "<div>\n",
       "<style scoped>\n",
       "    .dataframe tbody tr th:only-of-type {\n",
       "        vertical-align: middle;\n",
       "    }\n",
       "\n",
       "    .dataframe tbody tr th {\n",
       "        vertical-align: top;\n",
       "    }\n",
       "\n",
       "    .dataframe thead th {\n",
       "        text-align: right;\n",
       "    }\n",
       "</style>\n",
       "<table border=\"1\" class=\"dataframe\">\n",
       "  <thead>\n",
       "    <tr style=\"text-align: right;\">\n",
       "      <th></th>\n",
       "      <th>Manager</th>\n",
       "      <th>Date</th>\n",
       "      <th>Country</th>\n",
       "      <th>Gender</th>\n",
       "      <th>Age</th>\n",
       "      <th>q1</th>\n",
       "      <th>q2</th>\n",
       "      <th>q3</th>\n",
       "      <th>qsum</th>\n",
       "      <th>qmean</th>\n",
       "    </tr>\n",
       "  </thead>\n",
       "  <tbody>\n",
       "    <tr>\n",
       "      <th>0</th>\n",
       "      <td>1</td>\n",
       "      <td>10/24/14</td>\n",
       "      <td>US</td>\n",
       "      <td>M</td>\n",
       "      <td>32</td>\n",
       "      <td>5</td>\n",
       "      <td>4</td>\n",
       "      <td>5</td>\n",
       "      <td>24.0</td>\n",
       "      <td>4.800000</td>\n",
       "    </tr>\n",
       "    <tr>\n",
       "      <th>1</th>\n",
       "      <td>2</td>\n",
       "      <td>10/28/14</td>\n",
       "      <td>US</td>\n",
       "      <td>F</td>\n",
       "      <td>45</td>\n",
       "      <td>3</td>\n",
       "      <td>5</td>\n",
       "      <td>2</td>\n",
       "      <td>20.0</td>\n",
       "      <td>4.000000</td>\n",
       "    </tr>\n",
       "    <tr>\n",
       "      <th>2</th>\n",
       "      <td>3</td>\n",
       "      <td>10/01/14</td>\n",
       "      <td>UK</td>\n",
       "      <td>F</td>\n",
       "      <td>25</td>\n",
       "      <td>3</td>\n",
       "      <td>5</td>\n",
       "      <td>5</td>\n",
       "      <td>20.0</td>\n",
       "      <td>4.000000</td>\n",
       "    </tr>\n",
       "    <tr>\n",
       "      <th>3</th>\n",
       "      <td>4</td>\n",
       "      <td>10/12/14</td>\n",
       "      <td>UK</td>\n",
       "      <td>M</td>\n",
       "      <td>39</td>\n",
       "      <td>3</td>\n",
       "      <td>3</td>\n",
       "      <td>4</td>\n",
       "      <td>10.0</td>\n",
       "      <td>3.333333</td>\n",
       "    </tr>\n",
       "    <tr>\n",
       "      <th>4</th>\n",
       "      <td>5</td>\n",
       "      <td>05/01/14</td>\n",
       "      <td>UK</td>\n",
       "      <td>F</td>\n",
       "      <td>99</td>\n",
       "      <td>2</td>\n",
       "      <td>2</td>\n",
       "      <td>1</td>\n",
       "      <td>8.0</td>\n",
       "      <td>1.600000</td>\n",
       "    </tr>\n",
       "  </tbody>\n",
       "</table>\n",
       "</div>"
      ],
      "text/plain": [
       "   Manager      Date Country Gender  Age  q1  q2  q3  qsum     qmean\n",
       "0        1  10/24/14      US      M   32   5   4   5  24.0  4.800000\n",
       "1        2  10/28/14      US      F   45   3   5   2  20.0  4.000000\n",
       "2        3  10/01/14      UK      F   25   3   5   5  20.0  4.000000\n",
       "3        4  10/12/14      UK      M   39   3   3   4  10.0  3.333333\n",
       "4        5  05/01/14      UK      F   99   2   2   1   8.0  1.600000"
      ]
     },
     "execution_count": 33,
     "metadata": {},
     "output_type": "execute_result"
    }
   ],
   "source": [
    "m = managers\n",
    "m = m.drop(['q4','q5'], axis='columns')  # 열 기준 삭제\n",
    "m.head()"
   ]
  },
  {
   "cell_type": "markdown",
   "id": "2a7d41f1-b8ac-45b8-942b-5e8c5c458d5a",
   "metadata": {},
   "source": [
    "### 결측치 대체\n",
    "+ 평균, 최대/최소, 최빈값, 중앙값\n",
    "+ 결측치 기준 앞/뒷 값"
   ]
  },
  {
   "cell_type": "code",
   "execution_count": 36,
   "id": "2b0234b6-66fa-4d9d-adb8-550a00c73399",
   "metadata": {
    "collapsed": true,
    "jupyter": {
     "outputs_hidden": true
    },
    "tags": []
   },
   "outputs": [
    {
     "data": {
      "text/html": [
       "<div>\n",
       "<style scoped>\n",
       "    .dataframe tbody tr th:only-of-type {\n",
       "        vertical-align: middle;\n",
       "    }\n",
       "\n",
       "    .dataframe tbody tr th {\n",
       "        vertical-align: top;\n",
       "    }\n",
       "\n",
       "    .dataframe thead th {\n",
       "        text-align: right;\n",
       "    }\n",
       "</style>\n",
       "<table border=\"1\" class=\"dataframe\">\n",
       "  <thead>\n",
       "    <tr style=\"text-align: right;\">\n",
       "      <th></th>\n",
       "      <th>Manager</th>\n",
       "      <th>Date</th>\n",
       "      <th>Country</th>\n",
       "      <th>Gender</th>\n",
       "      <th>Age</th>\n",
       "      <th>q1</th>\n",
       "      <th>q2</th>\n",
       "      <th>q3</th>\n",
       "      <th>q4</th>\n",
       "      <th>q5</th>\n",
       "      <th>qsum</th>\n",
       "      <th>qmean</th>\n",
       "    </tr>\n",
       "  </thead>\n",
       "  <tbody>\n",
       "    <tr>\n",
       "      <th>0</th>\n",
       "      <td>1</td>\n",
       "      <td>10/24/14</td>\n",
       "      <td>US</td>\n",
       "      <td>M</td>\n",
       "      <td>32</td>\n",
       "      <td>5</td>\n",
       "      <td>4</td>\n",
       "      <td>5</td>\n",
       "      <td>5.0</td>\n",
       "      <td>5.0</td>\n",
       "      <td>24.0</td>\n",
       "      <td>4.800000</td>\n",
       "    </tr>\n",
       "    <tr>\n",
       "      <th>1</th>\n",
       "      <td>2</td>\n",
       "      <td>10/28/14</td>\n",
       "      <td>US</td>\n",
       "      <td>F</td>\n",
       "      <td>45</td>\n",
       "      <td>3</td>\n",
       "      <td>5</td>\n",
       "      <td>2</td>\n",
       "      <td>5.0</td>\n",
       "      <td>5.0</td>\n",
       "      <td>20.0</td>\n",
       "      <td>4.000000</td>\n",
       "    </tr>\n",
       "    <tr>\n",
       "      <th>2</th>\n",
       "      <td>3</td>\n",
       "      <td>10/01/14</td>\n",
       "      <td>UK</td>\n",
       "      <td>F</td>\n",
       "      <td>25</td>\n",
       "      <td>3</td>\n",
       "      <td>5</td>\n",
       "      <td>5</td>\n",
       "      <td>5.0</td>\n",
       "      <td>2.0</td>\n",
       "      <td>20.0</td>\n",
       "      <td>4.000000</td>\n",
       "    </tr>\n",
       "    <tr>\n",
       "      <th>3</th>\n",
       "      <td>4</td>\n",
       "      <td>10/12/14</td>\n",
       "      <td>UK</td>\n",
       "      <td>M</td>\n",
       "      <td>39</td>\n",
       "      <td>3</td>\n",
       "      <td>3</td>\n",
       "      <td>4</td>\n",
       "      <td>3.0</td>\n",
       "      <td>3.0</td>\n",
       "      <td>10.0</td>\n",
       "      <td>3.333333</td>\n",
       "    </tr>\n",
       "    <tr>\n",
       "      <th>4</th>\n",
       "      <td>5</td>\n",
       "      <td>05/01/14</td>\n",
       "      <td>UK</td>\n",
       "      <td>F</td>\n",
       "      <td>99</td>\n",
       "      <td>2</td>\n",
       "      <td>2</td>\n",
       "      <td>1</td>\n",
       "      <td>2.0</td>\n",
       "      <td>1.0</td>\n",
       "      <td>8.0</td>\n",
       "      <td>1.600000</td>\n",
       "    </tr>\n",
       "  </tbody>\n",
       "</table>\n",
       "</div>"
      ],
      "text/plain": [
       "   Manager      Date Country Gender  Age  q1  q2  q3   q4   q5  qsum     qmean\n",
       "0        1  10/24/14      US      M   32   5   4   5  5.0  5.0  24.0  4.800000\n",
       "1        2  10/28/14      US      F   45   3   5   2  5.0  5.0  20.0  4.000000\n",
       "2        3  10/01/14      UK      F   25   3   5   5  5.0  2.0  20.0  4.000000\n",
       "3        4  10/12/14      UK      M   39   3   3   4  3.0  3.0  10.0  3.333333\n",
       "4        5  05/01/14      UK      F   99   2   2   1  2.0  1.0   8.0  1.600000"
      ]
     },
     "execution_count": 36,
     "metadata": {},
     "output_type": "execute_result"
    }
   ],
   "source": [
    "qm = int(managers.qmean.mean())\n",
    "\n",
    "m = managers\n",
    "m.fillna(qm, inplace=True)\n",
    "m.head()"
   ]
  },
  {
   "cell_type": "markdown",
   "id": "420a8aa9-a5df-424a-8ef3-0a7d8a01275f",
   "metadata": {},
   "source": [
    "### 파생변수 다루기\n",
    "+ 기존 변수를 조합해서 새로운 변수를 만들어 냄"
   ]
  },
  {
   "cell_type": "markdown",
   "id": "c3c07df3-d529-40e6-b998-07bd7e9680a8",
   "metadata": {},
   "source": [
    "#### 매니저의 나이를 범주형으로 파생\n",
    "+ 청년(19 ~ 29), 중년(30 ~ 49), 장년(50 ~ 64), 노년(65 ~)등으로 분류"
   ]
  },
  {
   "cell_type": "code",
   "execution_count": 42,
   "id": "e42ff330-62c4-45a7-b3c2-9228b3b68c23",
   "metadata": {},
   "outputs": [],
   "source": [
    "def getAge(x):\n",
    "    age = '청년'\n",
    "    if (x >= 30) & (x <= 49):age = '중년'\n",
    "    elif (x >= 50) & (x <= 64):age = '장년'\n",
    "    elif x >=65 : age = '노년'\n",
    "    return age"
   ]
  },
  {
   "cell_type": "code",
   "execution_count": 45,
   "id": "a8995807-f0c2-415d-a2ce-231523798f5e",
   "metadata": {},
   "outputs": [
    {
     "data": {
      "text/html": [
       "<div>\n",
       "<style scoped>\n",
       "    .dataframe tbody tr th:only-of-type {\n",
       "        vertical-align: middle;\n",
       "    }\n",
       "\n",
       "    .dataframe tbody tr th {\n",
       "        vertical-align: top;\n",
       "    }\n",
       "\n",
       "    .dataframe thead th {\n",
       "        text-align: right;\n",
       "    }\n",
       "</style>\n",
       "<table border=\"1\" class=\"dataframe\">\n",
       "  <thead>\n",
       "    <tr style=\"text-align: right;\">\n",
       "      <th></th>\n",
       "      <th>Manager</th>\n",
       "      <th>Date</th>\n",
       "      <th>Country</th>\n",
       "      <th>Gender</th>\n",
       "      <th>Age</th>\n",
       "      <th>q1</th>\n",
       "      <th>q2</th>\n",
       "      <th>q3</th>\n",
       "      <th>q4</th>\n",
       "      <th>q5</th>\n",
       "      <th>qsum</th>\n",
       "      <th>qmean</th>\n",
       "      <th>Ages</th>\n",
       "    </tr>\n",
       "  </thead>\n",
       "  <tbody>\n",
       "    <tr>\n",
       "      <th>0</th>\n",
       "      <td>1</td>\n",
       "      <td>10/24/14</td>\n",
       "      <td>US</td>\n",
       "      <td>M</td>\n",
       "      <td>32</td>\n",
       "      <td>5</td>\n",
       "      <td>4</td>\n",
       "      <td>5</td>\n",
       "      <td>5.0</td>\n",
       "      <td>5.0</td>\n",
       "      <td>24.0</td>\n",
       "      <td>4.800000</td>\n",
       "      <td>중년</td>\n",
       "    </tr>\n",
       "    <tr>\n",
       "      <th>1</th>\n",
       "      <td>2</td>\n",
       "      <td>10/28/14</td>\n",
       "      <td>US</td>\n",
       "      <td>F</td>\n",
       "      <td>45</td>\n",
       "      <td>3</td>\n",
       "      <td>5</td>\n",
       "      <td>2</td>\n",
       "      <td>5.0</td>\n",
       "      <td>5.0</td>\n",
       "      <td>20.0</td>\n",
       "      <td>4.000000</td>\n",
       "      <td>중년</td>\n",
       "    </tr>\n",
       "    <tr>\n",
       "      <th>2</th>\n",
       "      <td>3</td>\n",
       "      <td>10/01/14</td>\n",
       "      <td>UK</td>\n",
       "      <td>F</td>\n",
       "      <td>25</td>\n",
       "      <td>3</td>\n",
       "      <td>5</td>\n",
       "      <td>5</td>\n",
       "      <td>5.0</td>\n",
       "      <td>2.0</td>\n",
       "      <td>20.0</td>\n",
       "      <td>4.000000</td>\n",
       "      <td>청년</td>\n",
       "    </tr>\n",
       "    <tr>\n",
       "      <th>3</th>\n",
       "      <td>4</td>\n",
       "      <td>10/12/14</td>\n",
       "      <td>UK</td>\n",
       "      <td>M</td>\n",
       "      <td>39</td>\n",
       "      <td>3</td>\n",
       "      <td>3</td>\n",
       "      <td>4</td>\n",
       "      <td>3.0</td>\n",
       "      <td>3.0</td>\n",
       "      <td>10.0</td>\n",
       "      <td>3.333333</td>\n",
       "      <td>중년</td>\n",
       "    </tr>\n",
       "    <tr>\n",
       "      <th>4</th>\n",
       "      <td>5</td>\n",
       "      <td>05/01/14</td>\n",
       "      <td>UK</td>\n",
       "      <td>F</td>\n",
       "      <td>99</td>\n",
       "      <td>2</td>\n",
       "      <td>2</td>\n",
       "      <td>1</td>\n",
       "      <td>2.0</td>\n",
       "      <td>1.0</td>\n",
       "      <td>8.0</td>\n",
       "      <td>1.600000</td>\n",
       "      <td>노년</td>\n",
       "    </tr>\n",
       "  </tbody>\n",
       "</table>\n",
       "</div>"
      ],
      "text/plain": [
       "   Manager      Date Country Gender  Age  q1  q2  q3   q4   q5  qsum  \\\n",
       "0        1  10/24/14      US      M   32   5   4   5  5.0  5.0  24.0   \n",
       "1        2  10/28/14      US      F   45   3   5   2  5.0  5.0  20.0   \n",
       "2        3  10/01/14      UK      F   25   3   5   5  5.0  2.0  20.0   \n",
       "3        4  10/12/14      UK      M   39   3   3   4  3.0  3.0  10.0   \n",
       "4        5  05/01/14      UK      F   99   2   2   1  2.0  1.0   8.0   \n",
       "\n",
       "      qmean Ages  \n",
       "0  4.800000   중년  \n",
       "1  4.000000   중년  \n",
       "2  4.000000   청년  \n",
       "3  3.333333   중년  \n",
       "4  1.600000   노년  "
      ]
     },
     "execution_count": 45,
     "metadata": {},
     "output_type": "execute_result"
    }
   ],
   "source": [
    "managers['Ages'] = managers.Age.apply(lambda x: getAge(x))\n",
    "managers"
   ]
  },
  {
   "cell_type": "markdown",
   "id": "c3a4fe67-2916-4d76-be25-f01bb21f3927",
   "metadata": {},
   "source": [
    "#### 매니저 설문결과를 범주형으로 파생\n",
    "+ \\>= 4.5 : 아주좋음\n",
    "+ \\>= 3.5 : 좋음\n",
    "+ \\>= 3 : 좋음\n",
    "+ \\>=2  : 나쁨\n",
    "+ 그외 아주나쁨"
   ]
  },
  {
   "cell_type": "code",
   "execution_count": 47,
   "id": "98586e39-780c-4b6b-8574-0bda607461a1",
   "metadata": {},
   "outputs": [],
   "source": [
    "def getRate(x):\n",
    "    rate = '좋음'\n",
    "    if (x >= 2.0) & (x < 3.0):rate = '나쁨'\n",
    "    elif (x >= 3.0) & (x < 3.5):rate = '좋음'\n",
    "    elif (x >= 3.5) & (x < 4.5):rate = '좋좋음'\n",
    "    elif x >=4.5 : rate = '아주좋음'\n",
    "    else : rate = '아주나쁨'\n",
    "    return rate"
   ]
  },
  {
   "cell_type": "code",
   "execution_count": 49,
   "id": "53d50824-5f15-40a3-8ee9-94556ed1fcbf",
   "metadata": {},
   "outputs": [
    {
     "data": {
      "text/html": [
       "<div>\n",
       "<style scoped>\n",
       "    .dataframe tbody tr th:only-of-type {\n",
       "        vertical-align: middle;\n",
       "    }\n",
       "\n",
       "    .dataframe tbody tr th {\n",
       "        vertical-align: top;\n",
       "    }\n",
       "\n",
       "    .dataframe thead th {\n",
       "        text-align: right;\n",
       "    }\n",
       "</style>\n",
       "<table border=\"1\" class=\"dataframe\">\n",
       "  <thead>\n",
       "    <tr style=\"text-align: right;\">\n",
       "      <th></th>\n",
       "      <th>Manager</th>\n",
       "      <th>Date</th>\n",
       "      <th>Country</th>\n",
       "      <th>Gender</th>\n",
       "      <th>Age</th>\n",
       "      <th>q1</th>\n",
       "      <th>q2</th>\n",
       "      <th>q3</th>\n",
       "      <th>q4</th>\n",
       "      <th>q5</th>\n",
       "      <th>qsum</th>\n",
       "      <th>qmean</th>\n",
       "      <th>Ages</th>\n",
       "      <th>Rates</th>\n",
       "    </tr>\n",
       "  </thead>\n",
       "  <tbody>\n",
       "    <tr>\n",
       "      <th>0</th>\n",
       "      <td>1</td>\n",
       "      <td>10/24/14</td>\n",
       "      <td>US</td>\n",
       "      <td>M</td>\n",
       "      <td>32</td>\n",
       "      <td>5</td>\n",
       "      <td>4</td>\n",
       "      <td>5</td>\n",
       "      <td>5.0</td>\n",
       "      <td>5.0</td>\n",
       "      <td>24.0</td>\n",
       "      <td>4.800000</td>\n",
       "      <td>중년</td>\n",
       "      <td>아주좋음</td>\n",
       "    </tr>\n",
       "    <tr>\n",
       "      <th>1</th>\n",
       "      <td>2</td>\n",
       "      <td>10/28/14</td>\n",
       "      <td>US</td>\n",
       "      <td>F</td>\n",
       "      <td>45</td>\n",
       "      <td>3</td>\n",
       "      <td>5</td>\n",
       "      <td>2</td>\n",
       "      <td>5.0</td>\n",
       "      <td>5.0</td>\n",
       "      <td>20.0</td>\n",
       "      <td>4.000000</td>\n",
       "      <td>중년</td>\n",
       "      <td>좋좋음</td>\n",
       "    </tr>\n",
       "    <tr>\n",
       "      <th>2</th>\n",
       "      <td>3</td>\n",
       "      <td>10/01/14</td>\n",
       "      <td>UK</td>\n",
       "      <td>F</td>\n",
       "      <td>25</td>\n",
       "      <td>3</td>\n",
       "      <td>5</td>\n",
       "      <td>5</td>\n",
       "      <td>5.0</td>\n",
       "      <td>2.0</td>\n",
       "      <td>20.0</td>\n",
       "      <td>4.000000</td>\n",
       "      <td>청년</td>\n",
       "      <td>좋좋음</td>\n",
       "    </tr>\n",
       "    <tr>\n",
       "      <th>3</th>\n",
       "      <td>4</td>\n",
       "      <td>10/12/14</td>\n",
       "      <td>UK</td>\n",
       "      <td>M</td>\n",
       "      <td>39</td>\n",
       "      <td>3</td>\n",
       "      <td>3</td>\n",
       "      <td>4</td>\n",
       "      <td>3.0</td>\n",
       "      <td>3.0</td>\n",
       "      <td>10.0</td>\n",
       "      <td>3.333333</td>\n",
       "      <td>중년</td>\n",
       "      <td>좋음</td>\n",
       "    </tr>\n",
       "    <tr>\n",
       "      <th>4</th>\n",
       "      <td>5</td>\n",
       "      <td>05/01/14</td>\n",
       "      <td>UK</td>\n",
       "      <td>F</td>\n",
       "      <td>99</td>\n",
       "      <td>2</td>\n",
       "      <td>2</td>\n",
       "      <td>1</td>\n",
       "      <td>2.0</td>\n",
       "      <td>1.0</td>\n",
       "      <td>8.0</td>\n",
       "      <td>1.600000</td>\n",
       "      <td>노년</td>\n",
       "      <td>아주나쁨</td>\n",
       "    </tr>\n",
       "  </tbody>\n",
       "</table>\n",
       "</div>"
      ],
      "text/plain": [
       "   Manager      Date Country Gender  Age  q1  q2  q3   q4   q5  qsum  \\\n",
       "0        1  10/24/14      US      M   32   5   4   5  5.0  5.0  24.0   \n",
       "1        2  10/28/14      US      F   45   3   5   2  5.0  5.0  20.0   \n",
       "2        3  10/01/14      UK      F   25   3   5   5  5.0  2.0  20.0   \n",
       "3        4  10/12/14      UK      M   39   3   3   4  3.0  3.0  10.0   \n",
       "4        5  05/01/14      UK      F   99   2   2   1  2.0  1.0   8.0   \n",
       "\n",
       "      qmean Ages Rates  \n",
       "0  4.800000   중년  아주좋음  \n",
       "1  4.000000   중년   좋좋음  \n",
       "2  4.000000   청년   좋좋음  \n",
       "3  3.333333   중년    좋음  \n",
       "4  1.600000   노년  아주나쁨  "
      ]
     },
     "execution_count": 49,
     "metadata": {},
     "output_type": "execute_result"
    }
   ],
   "source": [
    "managers['Rates'] = managers.qmean.apply(lambda x: getRate(x))\n",
    "managers"
   ]
  },
  {
   "cell_type": "markdown",
   "id": "88e7cee6-1a60-471e-bf10-5225181c8e42",
   "metadata": {},
   "source": [
    "## 이상치 처리\n",
    "+ 정상범위의 밖에 존재하는 값\n",
    "+ 하한 Q1 - 1.5 * IRQ, 상한 Q3 + 1.5 * IRQ 범위 밖 값들"
   ]
  },
  {
   "cell_type": "code",
   "execution_count": 50,
   "id": "5e9fa4f5-bbd0-4646-ae0e-88f6f93334da",
   "metadata": {},
   "outputs": [],
   "source": [
    "def outlier_iqr(data, column): \n",
    "    # lower(하한), upper(상한) 글로벌 변수 선언하기     \n",
    "    global lower, upper    \n",
    "    \n",
    "    # 4분위 수 기준 지정하기     \n",
    "    q1, q3 = np.quantile(data[column], 0.25), np.quantile(data[column], 0.75)          \n",
    "    \n",
    "    # IQR 계산하기     \n",
    "    iqr = q3 - q1    \n",
    "    \n",
    "    # outlier cutoff(기준점) 계산하기     \n",
    "    cut_off = iqr * 1.5          \n",
    "    \n",
    "    # lower와 upper 구분값 구하기     \n",
    "    lower, upper = q1 - cut_off, q3 + cut_off     \n",
    "    \n",
    "    print('IQR은',iqr, '이다.')     \n",
    "    print('lower 기준값은', lower, '이다.')     \n",
    "    print('upper 기준값은', upper, '이다.')    \n",
    "    \n",
    "    # 1사 분위와 4사 분위에 속해있는 데이터 각각 저장하기     \n",
    "    data1 = data[data[column] > upper]     \n",
    "    data2 = data[data[column] < lower]    \n",
    "    \n",
    "    # 이상값 총 개수 구하기\n",
    "    return print('총 이상값 개수는', data1.shape[0] + data2.shape[0], '이다.')"
   ]
  },
  {
   "cell_type": "code",
   "execution_count": 52,
   "id": "c30accf0-dc72-443b-b1de-d9ca8e58606c",
   "metadata": {},
   "outputs": [
    {
     "name": "stdout",
     "output_type": "stream",
     "text": [
      "IQR은 13.0 이다.\n",
      "lower 기준값은 12.5 이다.\n",
      "upper 기준값은 64.5 이다.\n",
      "총 이상값 개수는 1 이다.\n"
     ]
    }
   ],
   "source": [
    "outlier_iqr(managers,'Age')"
   ]
  },
  {
   "cell_type": "code",
   "execution_count": 54,
   "id": "9384b209-b474-47bc-9e93-72b31ef0b635",
   "metadata": {},
   "outputs": [
    {
     "data": {
      "text/html": [
       "<div>\n",
       "<style scoped>\n",
       "    .dataframe tbody tr th:only-of-type {\n",
       "        vertical-align: middle;\n",
       "    }\n",
       "\n",
       "    .dataframe tbody tr th {\n",
       "        vertical-align: top;\n",
       "    }\n",
       "\n",
       "    .dataframe thead th {\n",
       "        text-align: right;\n",
       "    }\n",
       "</style>\n",
       "<table border=\"1\" class=\"dataframe\">\n",
       "  <thead>\n",
       "    <tr style=\"text-align: right;\">\n",
       "      <th></th>\n",
       "      <th>Manager</th>\n",
       "      <th>Date</th>\n",
       "      <th>Country</th>\n",
       "      <th>Gender</th>\n",
       "      <th>Age</th>\n",
       "      <th>q1</th>\n",
       "      <th>q2</th>\n",
       "      <th>q3</th>\n",
       "      <th>q4</th>\n",
       "      <th>q5</th>\n",
       "      <th>qsum</th>\n",
       "      <th>qmean</th>\n",
       "      <th>Ages</th>\n",
       "      <th>Rates</th>\n",
       "    </tr>\n",
       "  </thead>\n",
       "  <tbody>\n",
       "    <tr>\n",
       "      <th>0</th>\n",
       "      <td>1</td>\n",
       "      <td>10/24/14</td>\n",
       "      <td>US</td>\n",
       "      <td>M</td>\n",
       "      <td>32</td>\n",
       "      <td>5</td>\n",
       "      <td>4</td>\n",
       "      <td>5</td>\n",
       "      <td>5.0</td>\n",
       "      <td>5.0</td>\n",
       "      <td>24.0</td>\n",
       "      <td>4.800000</td>\n",
       "      <td>중년</td>\n",
       "      <td>아주좋음</td>\n",
       "    </tr>\n",
       "    <tr>\n",
       "      <th>1</th>\n",
       "      <td>2</td>\n",
       "      <td>10/28/14</td>\n",
       "      <td>US</td>\n",
       "      <td>F</td>\n",
       "      <td>45</td>\n",
       "      <td>3</td>\n",
       "      <td>5</td>\n",
       "      <td>2</td>\n",
       "      <td>5.0</td>\n",
       "      <td>5.0</td>\n",
       "      <td>20.0</td>\n",
       "      <td>4.000000</td>\n",
       "      <td>중년</td>\n",
       "      <td>좋좋음</td>\n",
       "    </tr>\n",
       "    <tr>\n",
       "      <th>2</th>\n",
       "      <td>3</td>\n",
       "      <td>10/01/14</td>\n",
       "      <td>UK</td>\n",
       "      <td>F</td>\n",
       "      <td>25</td>\n",
       "      <td>3</td>\n",
       "      <td>5</td>\n",
       "      <td>5</td>\n",
       "      <td>5.0</td>\n",
       "      <td>2.0</td>\n",
       "      <td>20.0</td>\n",
       "      <td>4.000000</td>\n",
       "      <td>청년</td>\n",
       "      <td>좋좋음</td>\n",
       "    </tr>\n",
       "    <tr>\n",
       "      <th>3</th>\n",
       "      <td>4</td>\n",
       "      <td>10/12/14</td>\n",
       "      <td>UK</td>\n",
       "      <td>M</td>\n",
       "      <td>39</td>\n",
       "      <td>3</td>\n",
       "      <td>3</td>\n",
       "      <td>4</td>\n",
       "      <td>3.0</td>\n",
       "      <td>3.0</td>\n",
       "      <td>10.0</td>\n",
       "      <td>3.333333</td>\n",
       "      <td>중년</td>\n",
       "      <td>좋음</td>\n",
       "    </tr>\n",
       "  </tbody>\n",
       "</table>\n",
       "</div>"
      ],
      "text/plain": [
       "   Manager      Date Country Gender  Age  q1  q2  q3   q4   q5  qsum  \\\n",
       "0        1  10/24/14      US      M   32   5   4   5  5.0  5.0  24.0   \n",
       "1        2  10/28/14      US      F   45   3   5   2  5.0  5.0  20.0   \n",
       "2        3  10/01/14      UK      F   25   3   5   5  5.0  2.0  20.0   \n",
       "3        4  10/12/14      UK      M   39   3   3   4  3.0  3.0  10.0   \n",
       "\n",
       "      qmean Ages Rates  \n",
       "0  4.800000   중년  아주좋음  \n",
       "1  4.000000   중년   좋좋음  \n",
       "2  4.000000   청년   좋좋음  \n",
       "3  3.333333   중년    좋음  "
      ]
     },
     "execution_count": 54,
     "metadata": {},
     "output_type": "execute_result"
    }
   ],
   "source": [
    "# 이상치가 포함된 행을 제외하고 나머지 행 추출\n",
    "where = (managers.Age >= lower) * (managers.Age <= upper)\n",
    "m = managers[where]\n",
    "m"
   ]
  },
  {
   "cell_type": "code",
   "execution_count": null,
   "id": "24a4884e-1b6f-4aea-b5f2-98f062469f08",
   "metadata": {},
   "outputs": [],
   "source": []
  }
 ],
 "metadata": {
  "kernelspec": {
   "display_name": "Python 3 (ipykernel)",
   "language": "python",
   "name": "python3"
  },
  "language_info": {
   "codemirror_mode": {
    "name": "ipython",
    "version": 3
   },
   "file_extension": ".py",
   "mimetype": "text/x-python",
   "name": "python",
   "nbconvert_exporter": "python",
   "pygments_lexer": "ipython3",
   "version": "3.9.13"
  }
 },
 "nbformat": 4,
 "nbformat_minor": 5
}
